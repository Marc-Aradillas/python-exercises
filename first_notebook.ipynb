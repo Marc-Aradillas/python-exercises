{
 "cells": [
  {
   "cell_type": "code",
   "execution_count": 8,
   "id": "6255db23",
   "metadata": {},
   "outputs": [],
   "source": [
    "greeting = \"Hello, Python programmer!\""
   ]
  },
  {
   "cell_type": "code",
   "execution_count": 9,
   "id": "c7a55a0e",
   "metadata": {},
   "outputs": [
    {
     "name": "stdout",
     "output_type": "stream",
     "text": [
      "Hello, Python programmer!\n"
     ]
    }
   ],
   "source": [
    "print(greeting)"
   ]
  },
  {
   "cell_type": "markdown",
   "id": "1c3950b7",
   "metadata": {},
   "source": [
    "# I am a programming lord"
   ]
  },
  {
   "cell_type": "code",
   "execution_count": null,
   "id": "b0d2108f",
   "metadata": {},
   "outputs": [],
   "source": []
  }
 ],
 "metadata": {
  "kernelspec": {
   "display_name": "Python 3 (ipykernel)",
   "language": "python",
   "name": "python3"
  },
  "language_info": {
   "codemirror_mode": {
    "name": "ipython",
    "version": 3
   },
   "file_extension": ".py",
   "mimetype": "text/x-python",
   "name": "python",
   "nbconvert_exporter": "python",
   "pygments_lexer": "ipython3",
   "version": "3.10.9"
  }
 },
 "nbformat": 4,
 "nbformat_minor": 5
}
