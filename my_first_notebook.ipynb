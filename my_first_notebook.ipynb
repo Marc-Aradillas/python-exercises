{
 "cells": [
  {
   "cell_type": "markdown",
   "id": "eb445871",
   "metadata": {},
   "source": [
    "# My First Notebook Exercises\n",
    "\n",
    "### Python cell execution exercises\n",
    "\n",
    "Below I have provided three examples of implementing python code in jupyter notebooks IDE."
   ]
  },
  {
   "cell_type": "code",
   "execution_count": 1,
   "id": "45b5374c",
   "metadata": {},
   "outputs": [],
   "source": [
    "## 1. Sum example:"
   ]
  },
  {
   "cell_type": "code",
   "execution_count": 2,
   "id": "2ea27e8e",
   "metadata": {},
   "outputs": [
    {
     "name": "stdout",
     "output_type": "stream",
     "text": [
      "15\n"
     ]
    }
   ],
   "source": [
    "x = 5\n",
    "\n",
    "y = 10\n",
    "\n",
    "sum = x + y\n",
    "\n",
    "print(sum)"
   ]
  },
  {
   "cell_type": "code",
   "execution_count": 3,
   "id": "19ed946e",
   "metadata": {},
   "outputs": [],
   "source": [
    "## 2. String assignment, Print statement including strings with variables assigned with strings."
   ]
  },
  {
   "cell_type": "code",
   "execution_count": 4,
   "id": "cba8305c",
   "metadata": {},
   "outputs": [
    {
     "name": "stdout",
     "output_type": "stream",
     "text": [
      "Mi nombre es Marc Anthony y yo tengo 28 años.\n"
     ]
    }
   ],
   "source": [
    "nombre = \"Marc Anthony\"\n",
    "\n",
    "edad = 28\n",
    "\n",
    "print(\"Mi nombre es\", nombre, \"y yo tengo\", edad, \"años.\")"
   ]
  },
  {
   "cell_type": "code",
   "execution_count": 5,
   "id": "cd57870c",
   "metadata": {},
   "outputs": [],
   "source": [
    "## 3. math example using math lib and operators for mathematical use."
   ]
  },
  {
   "cell_type": "code",
   "execution_count": 6,
   "id": "766bf729",
   "metadata": {},
   "outputs": [
    {
     "name": "stdout",
     "output_type": "stream",
     "text": [
      "28.274333882308138\n"
     ]
    }
   ],
   "source": [
    "import math\n",
    "\n",
    "radius = 3\n",
    "\n",
    "area = math.pi * radius ** 2\n",
    "\n",
    "print(area)"
   ]
  },
  {
   "cell_type": "markdown",
   "id": "eae768cf",
   "metadata": {},
   "source": [
    "# Keyboard Shortcut Notes \n",
    "\n",
    "## Command + Enter: \n",
    "\n",
    "This shortcut is used to run the current cell and keep the focus on that cell. It executes the code in the cell and displays the output below the cell.\n",
    "\n",
    "## Shift + Enter: \n",
    "\n",
    "This shortcut is used to run the current cell and move the focus to the next cell. It executes the code in the cell, displays the output, and selects the next cell.\n",
    "\n",
    "## Esc + A/B: \n",
    "\n",
    "These shortcuts are used to insert a new cell above (Esc + A) or below (Esc + B) the current cell. Pressing Esc followed by A will insert a new cell above, while pressing Esc followed by B will insert a new cell below the current cell."
   ]
  }
 ],
 "metadata": {
  "kernelspec": {
   "display_name": "Python 3 (ipykernel)",
   "language": "python",
   "name": "python3"
  },
  "language_info": {
   "codemirror_mode": {
    "name": "ipython",
    "version": 3
   },
   "file_extension": ".py",
   "mimetype": "text/x-python",
   "name": "python",
   "nbconvert_exporter": "python",
   "pygments_lexer": "ipython3",
   "version": "3.10.9"
  }
 },
 "nbformat": 4,
 "nbformat_minor": 5
}
