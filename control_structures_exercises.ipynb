{
 "cells": [
  {
   "cell_type": "markdown",
   "id": "6576974a",
   "metadata": {},
   "source": [
    "# **Exercises**\n",
    "\n",
    "## *Do your work for this exercise in a file named control_structures_exercises.py or control_structures_exercises.ipynb.*\n",
    "\n",
    "# ✔️\n",
    "\n",
    "\n",
    "### 1. Conditional Basics"
   ]
  },
  {
   "cell_type": "markdown",
   "id": "2e1b8242",
   "metadata": {},
   "source": [
    "a. Prompt the user for a day of the week, print out whether the day is Monday or not"
   ]
  },
  {
   "cell_type": "code",
   "execution_count": 1,
   "id": "190bb6e6",
   "metadata": {},
   "outputs": [
    {
     "name": "stdout",
     "output_type": "stream",
     "text": [
      "Please enter a day of the week: monday\n",
      "This is the first day of the week, Monday!\n"
     ]
    }
   ],
   "source": [
    "day_of_the_week = input('Please enter a day of the week: ')\n",
    "# if day_of_week.strip().lower() sanitize (remove whitespace) and lower case to take in upper case inputs\n",
    "if day_of_the_week == ('monday'):\n",
    "    \n",
    "    print('This is the first day of the week, Monday!')\n",
    "    \n",
    "else: \n",
    "        \n",
    "    print('This day is not monday, what a relief.')\n",
    "   "
   ]
  },
  {
   "cell_type": "markdown",
   "id": "9b5da2b1",
   "metadata": {},
   "source": [
    " b. Prompt the user for a day of the week, print out whether the day is a weekday or a weekend"
   ]
  },
  {
   "cell_type": "code",
   "execution_count": 2,
   "id": "a75f7eed",
   "metadata": {},
   "outputs": [
    {
     "name": "stdout",
     "output_type": "stream",
     "text": [
      "Please enter a day of the week: saturday\n",
      "This is a weekend date!, party on!\n"
     ]
    }
   ],
   "source": [
    "day_of_the_week = input('Please enter a day of the week: ')\n",
    "# if day_of_week.strip().lower() sanitize (remove whitespace) and lower case to take in upper case inputs\n",
    "if day_of_the_week in ['monday', 'tuesday', 'wednesday', 'thursday', 'friday']:\n",
    "    \n",
    "    print(\"It's a weekday buddy.\")\n",
    "    \n",
    "elif day_of_the_week in ['saturday', 'sunday']: \n",
    "    \n",
    "    print(\"This is a weekend date!, party on!\")\n",
    "    \n",
    "else:\n",
    "    \n",
    "    print('That\\'s not a day, please type a day of the week in the field. Thank you!')\n",
    "\n"
   ]
  },
  {
   "cell_type": "markdown",
   "id": "d3609fa7",
   "metadata": {},
   "source": [
    " c. Calculate a weekly paycheck, accounting for overtime pay. Create variables and make up values for:\n",
    "        \n",
    "        - The number of hours worked in one week\n",
    "        \n",
    "        - The hourly rate\n",
    "        \n",
    "       For calculating pay:\n",
    "\n",
    "        - For working 40 hours or less, each hour is paid at the hourly rate\n",
    "        \n",
    "        - For working more than 40 hours\n",
    "\n",
    "            - the first 40 hours are paid at the hourly rate\n",
    "\n",
    "            - each hour after 40 is paid at time and a half (hourly rate * 1.5)"
   ]
  },
  {
   "cell_type": "code",
   "execution_count": 5,
   "id": "044f363f",
   "metadata": {},
   "outputs": [
    {
     "name": "stdout",
     "output_type": "stream",
     "text": [
      "Calculated pay with overtime: 1079.0\n"
     ]
    }
   ],
   "source": [
    "# set variables\n",
    "n = 41\n",
    "\n",
    "h_r = 26\n",
    "\n",
    "# calculations\n",
    "if n <= 40:\n",
    "    \n",
    "    pay = n * h_r\n",
    "    \n",
    "    print('Calculated pay:', pay)\n",
    "    \n",
    "else:\n",
    "    \n",
    "    pay = 40 * h_r + (n - 40) * h_r * 1.5\n",
    "    \n",
    "    print(\"Calculated pay with overtime:\", pay)"
   ]
  },
  {
   "cell_type": "markdown",
   "id": "79f6938e",
   "metadata": {},
   "source": [
    "### 2. Loop Basics"
   ]
  },
  {
   "cell_type": "markdown",
   "id": "ca6113b4",
   "metadata": {},
   "source": [
    "a. While\n",
    "\n",
    "    i. Create an integer variable i with a value of 5. Create a while loop that runs so long as i is less than or equal to 15. Each loop iteration, output the current value of i, then increment i by one.\n",
    "    \n",
    "Your output should look like this:\n",
    "\n",
    "\n",
    "**5 6 7 8 9 10 11 12 13 14 15**"
   ]
  },
  {
   "cell_type": "code",
   "execution_count": 4,
   "id": "bdcff499",
   "metadata": {},
   "outputs": [
    {
     "name": "stdout",
     "output_type": "stream",
     "text": [
      "5\n",
      "6\n",
      "7\n",
      "8\n",
      "9\n",
      "10\n",
      "11\n",
      "12\n",
      "13\n",
      "14\n",
      "15\n"
     ]
    }
   ],
   "source": [
    "i = 5\n",
    "\n",
    "while i <= 15:\n",
    "    \n",
    "    print(i)\n",
    "    \n",
    "    i += 1"
   ]
  },
  {
   "cell_type": "markdown",
   "id": "103e416e",
   "metadata": {},
   "source": [
    "    i. Create a while loop that will count by 2's starting with 0 and ending at 100. Follow each number with a new line."
   ]
  },
  {
   "cell_type": "code",
   "execution_count": 5,
   "id": "35e80625",
   "metadata": {
    "scrolled": true
   },
   "outputs": [
    {
     "name": "stdout",
     "output_type": "stream",
     "text": [
      "0\n",
      "2\n",
      "4\n",
      "6\n",
      "8\n",
      "10\n",
      "12\n",
      "14\n",
      "16\n",
      "18\n",
      "20\n",
      "22\n",
      "24\n",
      "26\n",
      "28\n",
      "30\n",
      "32\n",
      "34\n",
      "36\n",
      "38\n",
      "40\n",
      "42\n",
      "44\n",
      "46\n",
      "48\n",
      "50\n",
      "52\n",
      "54\n",
      "56\n",
      "58\n",
      "60\n",
      "62\n",
      "64\n",
      "66\n",
      "68\n",
      "70\n",
      "72\n",
      "74\n",
      "76\n",
      "78\n",
      "80\n",
      "82\n",
      "84\n",
      "86\n",
      "88\n",
      "90\n",
      "92\n",
      "94\n",
      "96\n",
      "98\n",
      "100\n"
     ]
    }
   ],
   "source": [
    "i = 0\n",
    "\n",
    "while i in range(101):\n",
    "    \n",
    "    print(i)\n",
    "    \n",
    "    i += 2"
   ]
  },
  {
   "cell_type": "markdown",
   "id": "d4beb032",
   "metadata": {},
   "source": [
    "    ii. Create a while loop that starts at 2, and displays the number squared on each line while the number is less than 1,000,000. Output should equal:\n",
    "    \n",
    "    \n",
    "**2 4 16 256 65536**"
   ]
  },
  {
   "cell_type": "code",
   "execution_count": 6,
   "id": "08783e8f",
   "metadata": {},
   "outputs": [
    {
     "name": "stdout",
     "output_type": "stream",
     "text": [
      "2\n",
      "4\n",
      "16\n",
      "256\n",
      "65536\n"
     ]
    }
   ],
   "source": [
    "i = 2\n",
    "\n",
    "while i < 1000000: # you can add underscores for large number values to be more readable\n",
    "    \n",
    "    print(i)\n",
    "    \n",
    "    i = (i ** 2) # square each i(th) iteration; i was incrementing which did not calculate the same when using the variab;"
   ]
  },
  {
   "cell_type": "markdown",
   "id": "7a5a7ae6",
   "metadata": {},
   "source": [
    "    iii. Write a while loop that uses print to create the output shown below."
   ]
  },
  {
   "cell_type": "code",
   "execution_count": 19,
   "id": "3f04e5f2",
   "metadata": {},
   "outputs": [],
   "source": [
    "# 100\n",
    "# 95\n",
    "# 90\n",
    "# 85\n",
    "# 80\n",
    "# 75\n",
    "# 70\n",
    "# 65\n",
    "# 60\n",
    "# 55\n",
    "# 50\n",
    "# 45\n",
    "# 40\n",
    "# 35\n",
    "# 30\n",
    "# 25\n",
    "# 20\n",
    "# 15\n",
    "# 10\n",
    "# 5"
   ]
  },
  {
   "cell_type": "code",
   "execution_count": 7,
   "id": "f0914992",
   "metadata": {},
   "outputs": [
    {
     "name": "stdout",
     "output_type": "stream",
     "text": [
      "100\n",
      "95\n",
      "90\n",
      "85\n",
      "80\n",
      "75\n",
      "70\n",
      "65\n",
      "60\n",
      "55\n",
      "50\n",
      "45\n",
      "40\n",
      "35\n",
      "30\n",
      "25\n",
      "20\n",
      "15\n",
      "10\n",
      "5\n"
     ]
    }
   ],
   "source": [
    "num = 100\n",
    "\n",
    "while num >= 5:\n",
    "    \n",
    "    print(num)\n",
    "    \n",
    "    num -= 5"
   ]
  },
  {
   "cell_type": "markdown",
   "id": "c0dedb05",
   "metadata": {},
   "source": [
    "    i. Write some code using a for loop that prompts the user for a number, then shows a multiplication table up through 10 for that number.\n",
    "\n",
    "    For example, if the user enters 7, your program should output:"
   ]
  },
  {
   "cell_type": "code",
   "execution_count": null,
   "id": "6d65af6b",
   "metadata": {},
   "outputs": [],
   "source": [
    "# 7 x 1 = 7\n",
    "# 7 x 2 = 14\n",
    "# 7 x 3 = 21\n",
    "# 7 x 4 = 28\n",
    "# 7 x 5 = 35\n",
    "# 7 x 6 = 42\n",
    "# 7 x 7 = 49\n",
    "# 7 x 8 = 56\n",
    "# 7 x 9 = 63\n",
    "# 7 x 10 = 70"
   ]
  },
  {
   "cell_type": "code",
   "execution_count": 8,
   "id": "e6656abd",
   "metadata": {},
   "outputs": [
    {
     "name": "stdout",
     "output_type": "stream",
     "text": [
      "Enter a number:5\n",
      "Multiplication table for 5 :\n",
      "5 x 1 = 5\n",
      "5 x 2 = 10\n",
      "5 x 3 = 15\n",
      "5 x 4 = 20\n",
      "5 x 5 = 25\n",
      "5 x 6 = 30\n",
      "5 x 7 = 35\n",
      "5 x 8 = 40\n",
      "5 x 9 = 45\n",
      "5 x 10 = 50\n"
     ]
    }
   ],
   "source": [
    "user_num = int(input('Enter a number:'))\n",
    "\n",
    "print(\"Multiplication table for\", user_num, \":\")\n",
    "\n",
    "for i in range(1, 11):\n",
    "    \n",
    "    product = user_num * i\n",
    "    \n",
    "    print(user_num, \"x\", i, \"=\", product)\n",
    "    \n",
    "    # print(f'{your_num} x {i} = {your_num * i}')"
   ]
  },
  {
   "cell_type": "markdown",
   "id": "abe24280",
   "metadata": {},
   "source": [
    "         ii. Create a for loop that uses print to create the output shown below."
   ]
  },
  {
   "cell_type": "code",
   "execution_count": null,
   "id": "f579e99b",
   "metadata": {},
   "outputs": [],
   "source": [
    "# 1\n",
    "# 22\n",
    "# 333\n",
    "# 4444\n",
    "# 55555\n",
    "# 666666\n",
    "# 7777777\n",
    "# 88888888\n",
    "# 999999999"
   ]
  },
  {
   "cell_type": "markdown",
   "id": "f894d903",
   "metadata": {},
   "source": [
    "<!-- 1\n",
    "22\n",
    "333\n",
    "4444\n",
    "55555\n",
    "666666\n",
    "7777777\n",
    "88888888\n",
    "999999999 -->"
   ]
  },
  {
   "cell_type": "code",
   "execution_count": 3,
   "id": "6eb0fb5a",
   "metadata": {},
   "outputs": [
    {
     "name": "stdout",
     "output_type": "stream",
     "text": [
      "1\n",
      "22\n",
      "333\n",
      "4444\n",
      "55555\n",
      "666666\n",
      "7777777\n",
      "88888888\n",
      "999999999\n"
     ]
    }
   ],
   "source": [
    "for i in range(1, 10):\n",
    "    \n",
    "    num = i\n",
    "    \n",
    "    # extra lol, i += 1\n",
    "    \n",
    "    print(str(i) * i)\n",
    "    \n",
    "    # print(f'{i}'' * i) string and int consolidated logic"
   ]
  },
  {
   "cell_type": "markdown",
   "id": "5f7657b4",
   "metadata": {},
   "source": [
    " c. break and continue"
   ]
  },
  {
   "cell_type": "markdown",
   "id": "628610ac",
   "metadata": {},
   "source": [
    "       i. Write a program that prompts the user for a positive integer. Next write a loop that prints out the numbers from the number the user entered down to 1."
   ]
  },
  {
   "cell_type": "code",
   "execution_count": 11,
   "id": "2d034459",
   "metadata": {},
   "outputs": [
    {
     "name": "stdout",
     "output_type": "stream",
     "text": [
      "Enter positive int:5\n",
      "Counting down from 5 to 1.\n",
      "5\n",
      "4\n",
      "3\n",
      "2\n",
      "1\n"
     ]
    }
   ],
   "source": [
    "user_num = int(input('Enter positive int:'))\n",
    "\n",
    "if user_num < 0:\n",
    "    \n",
    "    print('This is not a positive number!, try again.')\n",
    "    \n",
    "    \n",
    "else:\n",
    "    \n",
    "    print('Counting down from', user_num, 'to 1.')\n",
    "    \n",
    "    while user_num >= 0:\n",
    "        \n",
    "        if user_num % 11 == 0:\n",
    "            \n",
    "            user_num -= 1\n",
    "            \n",
    "            continue\n",
    "    \n",
    "        print(user_num)\n",
    "    \n",
    "        if user_num == 1:\n",
    "            \n",
    "            break\n",
    "            \n",
    "        user_num -= 1\n",
    "        \n",
    "'''\n",
    "your_num = int(input('Enter a positive integer'))\n",
    "\n",
    "while True:\n",
    "\n",
    "    if your_num <= 0:\n",
    "    \n",
    "        break\n",
    "        \n",
    "    print(your_num)\n",
    "    \n",
    "    your_num -= 1\n",
    "\n",
    "'''"
   ]
  },
  {
   "cell_type": "markdown",
   "id": "0f3e0131",
   "metadata": {},
   "source": [
    "        ii. The input function can be used to prompt for input and use that input in your python code. Prompt the user to enter a positive number and write a loop that counts from 0 to that number. (Hints: note that the input function returns a string, so you'll need to convert this to a numeric type.)"
   ]
  },
  {
   "cell_type": "code",
   "execution_count": 4,
   "id": "075000db",
   "metadata": {},
   "outputs": [
    {
     "name": "stdout",
     "output_type": "stream",
     "text": [
      "Enter positive int: 6\n",
      "Counting from 0 up to 6 .\n",
      "0\n",
      "1\n",
      "2\n",
      "3\n",
      "4\n",
      "5\n",
      "6\n"
     ]
    }
   ],
   "source": [
    "user_num = int(input('Enter positive int: '))\n",
    "\n",
    "if user_num <= 0:\n",
    "    \n",
    "    print('This is not a positive number!, try again.')\n",
    "    \n",
    "else:\n",
    "    \n",
    "    print('Counting from 0 up to', user_num, '.')\n",
    "    \n",
    "    for i in range(0, user_num + 1):\n",
    "        \n",
    "        while user_num == i:\n",
    "        \n",
    "            break\n",
    "        \n",
    "        print(i)\n",
    "        \n",
    "'''\n",
    "your_num - int(input('Enter a psotive integer: '))\n",
    "\n",
    "i = 0\n",
    "\n",
    "while True:\n",
    "    \n",
    "    print(i)\n",
    "    \n",
    "    if i == your_num:\n",
    "    \n",
    "        break\n",
    "        \n",
    "    i += 1\n",
    "\n",
    "'''"
   ]
  },
  {
   "cell_type": "markdown",
   "id": "b7d6edb6",
   "metadata": {},
   "source": [
    "        iii. Prompt the user for an odd number between 1 and 50. Use a loop and a break statement to continue prompting the user if they enter invalid input. (Hint: use the isdigit method on strings to determine this). Use a loop and the continue statement to output all the odd numbers between 1 and 50, except for the number the user entered.\n",
    "\n",
    "    Your output should look like this:"
   ]
  },
  {
   "cell_type": "code",
   "execution_count": 10,
   "id": "c589f8e2",
   "metadata": {},
   "outputs": [],
   "source": [
    "# Number to skip is: 27\n",
    "\n",
    "# Here is an odd number: 1\n",
    "# Here is an odd number: 3\n",
    "# Here is an odd number: 5\n",
    "# Here is an odd number: 7\n",
    "# Here is an odd number: 9\n",
    "# Here is an odd number: 11\n",
    "# Here is an odd number: 13\n",
    "# Here is an odd number: 15\n",
    "# Here is an odd number: 17\n",
    "# Here is an odd number: 19\n",
    "# Here is an odd number: 21\n",
    "# Here is an odd number: 23\n",
    "# Here is an odd number: 25\n",
    "# Yikes! Skipping number: 27\n",
    "# Here is an odd number: 29\n",
    "# Here is an odd number: 31\n",
    "# Here is an odd number: 33\n",
    "# Here is an odd number: 35\n",
    "# Here is an odd number: 37\n",
    "# Here is an odd number: 39\n",
    "# Here is an odd number: 41\n",
    "# Here is an odd number: 43\n",
    "# Here is an odd number: 45\n",
    "# Here is an odd number: 47\n",
    "# Here is an odd number: 49"
   ]
  },
  {
   "cell_type": "code",
   "execution_count": 12,
   "id": "7aaa787c",
   "metadata": {},
   "outputs": [
    {
     "name": "stdout",
     "output_type": "stream",
     "text": [
      "Enter an odd number between 1 and 50: \n",
      "\n",
      "27\n",
      "\n",
      "\n",
      "Number to skip is 27 \n",
      "\n",
      "Here is an odd number: 1\n",
      "Here is an odd number: 3\n",
      "Here is an odd number: 5\n",
      "Here is an odd number: 7\n",
      "Here is an odd number: 9\n",
      "Here is an odd number: 11\n",
      "Here is an odd number: 13\n",
      "Here is an odd number: 15\n",
      "Here is an odd number: 17\n",
      "Here is an odd number: 19\n",
      "Here is an odd number: 21\n",
      "Here is an odd number: 23\n",
      "Here is an odd number: 25\n",
      "Yikes!: Skipping number: 27\n",
      "Here is an odd number: 29\n",
      "Here is an odd number: 31\n",
      "Here is an odd number: 33\n",
      "Here is an odd number: 35\n",
      "Here is an odd number: 37\n",
      "Here is an odd number: 39\n",
      "Here is an odd number: 41\n",
      "Here is an odd number: 43\n",
      "Here is an odd number: 45\n",
      "Here is an odd number: 47\n",
      "Here is an odd number: 49\n"
     ]
    },
    {
     "data": {
      "text/plain": [
       "\"\\nwhile True:\\n\\n    your_num = input('Number to skip is: ')\\n    \\n    if your_num.isdigit() and int(your_num) % 2 == 1:\\n        \\n        your_num = int(your_num)\\n        \\n        break\\n\\nprint()\\n\\ni = 1\\n\\nwhile i <= 50:\\n\\n    if i == your_num:\\n        \\n        print(f'Yikes! Skipping numberL {your_num}')\\n\\n        i += 2\\n        \\n        continue\\n    \\n    print(f'Here is an off number: {{i}})\\n    \\n    i += 2\\n\""
      ]
     },
     "execution_count": 12,
     "metadata": {},
     "output_type": "execute_result"
    }
   ],
   "source": [
    "user_num = input(\"Enter an odd number between 1 and 50: \\n\\n\")\n",
    "\n",
    "if not user_num.isdigit():\n",
    "    \n",
    "    print(\"This is not an odd number!, please try again.\")\n",
    "    \n",
    "    \n",
    "num = int(user_num)\n",
    "\n",
    "if num < 1 or num > 50 or num % 2 == 0:\n",
    "    \n",
    "    print(\"this is not an odd number or is out range. Please enter an odd number between 1 and 50.\")\n",
    "\n",
    "print(\"\\n\\nNumber to skip is\", num, '\\n')\n",
    "\n",
    "for i in range(1, 51):\n",
    "    \n",
    "    if i == num:\n",
    "        \n",
    "        print('Yikes!: Skipping number:', num)\n",
    "        \n",
    "        continue\n",
    "        \n",
    "    if i % 2 != 0:\n",
    "        \n",
    "        print('Here is an odd number:', i)"
   ]
  },
  {
   "cell_type": "markdown",
   "id": "d53869bd-79a6-4699-b6b5-b1b55eaf62ed",
   "metadata": {},
   "source": [
    "INSTRUCTOR EX.\n",
    "\n",
    "'''\n",
    "while True:\n",
    "\n",
    "    your_num = input('Number to skip is: ')\n",
    "    \n",
    "    if your_num.isdigit() and int(your_num) % 2 == 1:\n",
    "        \n",
    "        your_num = int(your_num)\n",
    "        \n",
    "        break\n",
    "\n",
    "print()\n",
    "\n",
    "i = 1\n",
    "\n",
    "while i <= 50:\n",
    "\n",
    "    if i == your_num:\n",
    "        \n",
    "        print(f'Yikes! Skipping numberL {your_num}')\n",
    "\n",
    "        i += 2\n",
    "        \n",
    "        continue\n",
    "    \n",
    "    print(f'Here is an off number: {{i}})\n",
    "    \n",
    "    i += 2\n",
    "'''"
   ]
  },
  {
   "cell_type": "markdown",
   "id": "0a6ad14f",
   "metadata": {},
   "source": [
    "### 3. Fizzbuzz\n",
    "    \n",
    "    One of the most common interview questions for entry-level programmers is the FizzBuzz test. Developed by Imran Ghory, the test is designed to test basic looping and conditional logic skills.\n",
    "\n",
    "    - Write a program that prints the numbers from 1 to 100."
   ]
  },
  {
   "cell_type": "code",
   "execution_count": 14,
   "id": "ed4e7243",
   "metadata": {},
   "outputs": [
    {
     "name": "stdout",
     "output_type": "stream",
     "text": [
      "1\n",
      "2\n",
      "3\n",
      "4\n",
      "5\n",
      "6\n",
      "7\n",
      "8\n",
      "9\n",
      "10\n",
      "11\n",
      "12\n",
      "13\n",
      "14\n",
      "15\n",
      "16\n",
      "17\n",
      "18\n",
      "19\n",
      "20\n",
      "21\n",
      "22\n",
      "23\n",
      "24\n",
      "25\n",
      "26\n",
      "27\n",
      "28\n",
      "29\n",
      "30\n",
      "31\n",
      "32\n",
      "33\n",
      "34\n",
      "35\n",
      "36\n",
      "37\n",
      "38\n",
      "39\n",
      "40\n",
      "41\n",
      "42\n",
      "43\n",
      "44\n",
      "45\n",
      "46\n",
      "47\n",
      "48\n",
      "49\n",
      "50\n",
      "51\n",
      "52\n",
      "53\n",
      "54\n",
      "55\n",
      "56\n",
      "57\n",
      "58\n",
      "59\n",
      "60\n",
      "61\n",
      "62\n",
      "63\n",
      "64\n",
      "65\n",
      "66\n",
      "67\n",
      "68\n",
      "69\n",
      "70\n",
      "71\n",
      "72\n",
      "73\n",
      "74\n",
      "75\n",
      "76\n",
      "77\n",
      "78\n",
      "79\n",
      "80\n",
      "81\n",
      "82\n",
      "83\n",
      "84\n",
      "85\n",
      "86\n",
      "87\n",
      "88\n",
      "89\n",
      "90\n",
      "91\n",
      "92\n",
      "93\n",
      "94\n",
      "95\n",
      "96\n",
      "97\n",
      "98\n",
      "99\n",
      "100\n"
     ]
    }
   ],
   "source": [
    "i = 1\n",
    "\n",
    "while i in range(101):\n",
    "    \n",
    "    print(i)\n",
    "    \n",
    "    i += 1"
   ]
  },
  {
   "cell_type": "markdown",
   "id": "f35c9956",
   "metadata": {},
   "source": [
    "- For multiples of three print \"Fizz\" instead of the number"
   ]
  },
  {
   "cell_type": "code",
   "execution_count": 15,
   "id": "9efcc629",
   "metadata": {},
   "outputs": [
    {
     "name": "stdout",
     "output_type": "stream",
     "text": [
      "1\n",
      "2\n",
      "Fizz\n",
      "4\n",
      "5\n",
      "Fizz\n",
      "7\n",
      "8\n",
      "Fizz\n"
     ]
    }
   ],
   "source": [
    "for num in range(1, 10):\n",
    "\n",
    "    if num % 3 == 0:\n",
    "    \n",
    "        print(\"Fizz\")\n",
    "    \n",
    "    else:\n",
    "    \n",
    "        print(num)"
   ]
  },
  {
   "cell_type": "markdown",
   "id": "5992deb7",
   "metadata": {},
   "source": [
    "- For the multiples of five print \"Buzz\"."
   ]
  },
  {
   "cell_type": "code",
   "execution_count": 16,
   "id": "4f243e82",
   "metadata": {},
   "outputs": [
    {
     "name": "stdout",
     "output_type": "stream",
     "text": [
      "1\n",
      "2\n",
      "3\n",
      "4\n",
      "Buzz\n",
      "6\n",
      "7\n",
      "8\n",
      "9\n",
      "Buzz\n",
      "11\n",
      "12\n",
      "13\n",
      "14\n",
      "Buzz\n",
      "16\n",
      "17\n",
      "18\n",
      "19\n",
      "Buzz\n",
      "21\n",
      "22\n",
      "23\n",
      "24\n",
      "Buzz\n"
     ]
    }
   ],
   "source": [
    "for num in range(1, 26):\n",
    "    \n",
    "    if num % 5 == 0:\n",
    "    \n",
    "        print(\"Buzz\")\n",
    "        \n",
    "    else:\n",
    "        \n",
    "        print(num)"
   ]
  },
  {
   "cell_type": "markdown",
   "id": "d9c9c8fd",
   "metadata": {},
   "source": [
    "- For numbers which are multiples of both three and five print \"FizzBuzz\"."
   ]
  },
  {
   "cell_type": "code",
   "execution_count": 17,
   "id": "12a7c646",
   "metadata": {},
   "outputs": [
    {
     "name": "stdout",
     "output_type": "stream",
     "text": [
      "1\n",
      "2\n",
      "3\n",
      "4\n",
      "5\n",
      "6\n",
      "7\n",
      "8\n",
      "9\n",
      "10\n",
      "11\n",
      "12\n",
      "13\n",
      "14\n",
      "FizzBuzz\n",
      "16\n",
      "17\n",
      "18\n",
      "19\n",
      "20\n",
      "21\n",
      "22\n",
      "23\n",
      "24\n",
      "25\n",
      "26\n",
      "27\n",
      "28\n",
      "29\n",
      "FizzBuzz\n",
      "31\n",
      "32\n",
      "33\n",
      "34\n",
      "35\n",
      "36\n",
      "37\n",
      "38\n",
      "39\n",
      "40\n",
      "41\n",
      "42\n",
      "43\n",
      "44\n",
      "FizzBuzz\n",
      "46\n",
      "47\n",
      "48\n",
      "49\n",
      "50\n",
      "51\n",
      "52\n",
      "53\n",
      "54\n",
      "55\n",
      "56\n",
      "57\n",
      "58\n",
      "59\n",
      "FizzBuzz\n",
      "61\n",
      "62\n",
      "63\n",
      "64\n",
      "65\n",
      "66\n",
      "67\n",
      "68\n",
      "69\n",
      "70\n",
      "71\n",
      "72\n",
      "73\n",
      "74\n",
      "FizzBuzz\n",
      "76\n",
      "77\n",
      "78\n",
      "79\n",
      "80\n",
      "81\n",
      "82\n",
      "83\n",
      "84\n",
      "85\n",
      "86\n",
      "87\n",
      "88\n",
      "89\n",
      "FizzBuzz\n",
      "91\n",
      "92\n",
      "93\n",
      "94\n",
      "95\n",
      "96\n",
      "97\n",
      "98\n",
      "99\n"
     ]
    }
   ],
   "source": [
    "for num in range(1, 100):\n",
    "    \n",
    "    if num % 3 == 0 and num % 5 == 0:\n",
    "    \n",
    "        print(\"FizzBuzz\")\n",
    "        \n",
    "    else:\n",
    "        \n",
    "        print(num)"
   ]
  },
  {
   "cell_type": "markdown",
   "id": "5b9d252d",
   "metadata": {},
   "source": [
    "INSTRUCTOR EX."
   ]
  },
  {
   "cell_type": "code",
   "execution_count": 10,
   "id": "142bd4d9",
   "metadata": {},
   "outputs": [
    {
     "name": "stdout",
     "output_type": "stream",
     "text": [
      "1\n",
      "2\n",
      "Fizz\n",
      "4\n",
      "Buzz\n",
      "Fizz\n",
      "7\n",
      "8\n",
      "Fizz\n",
      "Buzz\n",
      "11\n",
      "Fizz\n",
      "13\n",
      "14\n",
      "Fizzbuzz\n",
      "16\n",
      "17\n",
      "Fizz\n",
      "19\n",
      "Buzz\n",
      "Fizz\n",
      "22\n",
      "23\n",
      "Fizz\n",
      "Buzz\n",
      "26\n",
      "Fizz\n",
      "28\n",
      "29\n",
      "Fizzbuzz\n",
      "31\n",
      "32\n",
      "Fizz\n",
      "34\n",
      "Buzz\n",
      "Fizz\n",
      "37\n",
      "38\n",
      "Fizz\n",
      "Buzz\n",
      "41\n",
      "Fizz\n",
      "43\n",
      "44\n",
      "Fizzbuzz\n",
      "46\n",
      "47\n",
      "Fizz\n",
      "49\n",
      "Buzz\n",
      "Fizz\n",
      "52\n",
      "53\n",
      "Fizz\n",
      "Buzz\n",
      "56\n",
      "Fizz\n",
      "58\n",
      "59\n",
      "Fizzbuzz\n",
      "61\n",
      "62\n",
      "Fizz\n",
      "64\n",
      "Buzz\n",
      "Fizz\n",
      "67\n",
      "68\n",
      "Fizz\n",
      "Buzz\n",
      "71\n",
      "Fizz\n",
      "73\n",
      "74\n",
      "Fizzbuzz\n",
      "76\n",
      "77\n",
      "Fizz\n",
      "79\n",
      "Buzz\n",
      "Fizz\n",
      "82\n",
      "83\n",
      "Fizz\n",
      "Buzz\n",
      "86\n",
      "Fizz\n",
      "88\n",
      "89\n",
      "Fizzbuzz\n",
      "91\n",
      "92\n",
      "Fizz\n",
      "94\n",
      "Buzz\n",
      "Fizz\n",
      "97\n",
      "98\n",
      "Fizz\n",
      "Buzz\n"
     ]
    }
   ],
   "source": [
    "i = 1\n",
    "\n",
    "while i <= 100:\n",
    "    \n",
    "    if i % 15 == 0:\n",
    "        \n",
    "        print('Fizzbuzz')\n",
    "        \n",
    "    elif i % 5 == 0:\n",
    "            \n",
    "        print('Buzz')\n",
    "    \n",
    "    elif i % 3 == 0:\n",
    "        \n",
    "        print('Fizz')\n",
    "        \n",
    "    else:\n",
    "        \n",
    "        print(i)\n",
    "        \n",
    "    i += 1"
   ]
  },
  {
   "cell_type": "markdown",
   "id": "1d3dd4b5",
   "metadata": {},
   "source": [
    "### 4. Display a table of powers.\n",
    "\n",
    "    - Prompt the user to enter an integer\n",
    "    - Display a table of squares and cubes from 1 to the value entered\n",
    "    - Ask if the user wants to continue\n",
    "    - Assume that the user will enter valid data\n",
    "    - Only continue if the user agrees to\n",
    "\n",
    "    Example Output\n",
    "\n",
    "\n",
    "What number would you like to go up to? 5\n",
    "\n",
    "Here is your table!\n",
    "\n",
    "number | squared | cubed\n",
    "------ | ------- | -----\n",
    "1      | 1       | 1\n",
    "2      | 4       | 8\n",
    "3      | 9       | 27\n",
    "4      | 16      | 64\n",
    "5      | 25      | 125"
   ]
  },
  {
   "cell_type": "code",
   "execution_count": 4,
   "id": "93d44c9e",
   "metadata": {},
   "outputs": [
    {
     "name": "stdout",
     "output_type": "stream",
     "text": [
      "What number would you like to go up to?  \n",
      "4\n",
      "\n",
      "Here is your table!,\n",
      "\n",
      "number\tsquared\tcubed\n",
      "------\t------\t------\n",
      "1\t1\t1\n",
      "2\t4\t8\n",
      "3\t9\t27\n",
      "4\t16\t64\n",
      "Would you like to continue (Y/N)? y\n",
      "What number would you like to go up to?  \n",
      "6\n",
      "\n",
      "Here is your table!,\n",
      "\n",
      "number\tsquared\tcubed\n",
      "------\t------\t------\n",
      "1\t1\t1\n",
      "2\t4\t8\n",
      "3\t9\t27\n",
      "4\t16\t64\n",
      "5\t25\t125\n",
      "6\t36\t216\n",
      "Would you like to continue (Y/N)? n\n",
      "\n",
      "Have a great day!\n"
     ]
    }
   ],
   "source": [
    "while True:\n",
    "    \n",
    "    user_int = int(input('What number would you like to go up to?  \\n'))\n",
    "\n",
    "    # header\n",
    "    print('\\nHere is your table!,\\n')\n",
    "\n",
    "    print('number\\tsquared\\tcubed')\n",
    "\n",
    "    print('------\\t------\\t------')\n",
    "\n",
    "    for i in range(1, user_int + 1):\n",
    "        \n",
    "        print(f'{i}\\t{i ** 2}\\t{i ** 3}')\n",
    "\n",
    "    answer = input('Would you like to continue (Y/N)? ')\n",
    "\n",
    "    if answer.strip().lower() == 'n':\n",
    "        \n",
    "        print('\\nHave a great day!')\n",
    "        \n",
    "        break\n"
   ]
  },
  {
   "cell_type": "markdown",
   "id": "55dc7875",
   "metadata": {},
   "source": [
    "### 5. Convert given number grades into letter grades.\n",
    "\n",
    "    - Prompt the user for a numerical grade from 0 to 100\n",
    "    - Display the corresponding letter grade\n",
    "    - Prompt the user to continue\n",
    "    - Assume that the user will enter valid integers for the grades\n",
    "    - The application should only continue if the user agrees to\n",
    "    - Grade Ranges:\n",
    "\n",
    "        - A : 100 - 88\n",
    "        - B : 87 - 80\n",
    "        - C : 79 - 67\n",
    "        - D : 66 - 60\n",
    "        - F : 59 - 0"
   ]
  },
  {
   "cell_type": "code",
   "execution_count": null,
   "id": "b87281c6",
   "metadata": {},
   "outputs": [],
   "source": [
    "while True:\n",
    "    \n",
    "    your_grade = int(input('Enter your numerical grade from 0 to 100: '))\n",
    "    \n",
    "    print()\n",
    "    \n",
    "    if your_grade >= 88:\n",
    "        \n",
    "        print('A')\n",
    "        \n",
    "    elif your_grade >= 80:\n",
    "        \n",
    "        print('B')\n",
    "        \n",
    "    elif your_grade >= 67:\n",
    "        \n",
    "        print('C')\n",
    "        \n",
    "    elif your_grade >= 60:\n",
    "        \n",
    "        print('D')\n",
    "        \n",
    "    else:\n",
    "        \n",
    "        print('F')  \n",
    "        \n",
    "    print()    \n",
    "        \n",
    "    answer = input('Would you like to continue? (Y/N): ')\n",
    "    \n",
    "    print()\n",
    "    \n",
    "    if answer.strip().lower() == 'n':\n",
    "        \n",
    "        print('Have a great day!')\n",
    "        \n",
    "        break"
   ]
  },
  {
   "cell_type": "markdown",
   "id": "43dd5205",
   "metadata": {},
   "source": [
    "### 6. Create a list of dictionaries where each dictionary represents a book that you have read. Each dictionary in the list should have the keys title, author, and genre. Loop through the list and print out information about each book.\n",
    "\n",
    "    - Prompt the user to enter a genre, then loop through your books list and print out the titles of all the books in that genre."
   ]
  },
  {
   "cell_type": "code",
   "execution_count": null,
   "id": "bc163612",
   "metadata": {},
   "outputs": [],
   "source": [
    "books_read = [{'title': 'The Phantom Tollbooth', 'author': 'Norton Juster', 'genre': 'Fantasy'},\n",
    "              {'title': 'Nicomachean Ethics', 'author': 'Aristotle', 'genre': 'Philosophy'},\n",
    "              {'title': 'Atlas Shrugged', 'author': 'Ayn Rand', 'genre': 'Fiction'}]\n",
    "\n",
    "for book in books_read:\n",
    "    \n",
    "    print('Title: ', book['title'], '  Author: ', book['author'], '  Genre: ', book['genre'])"
   ]
  },
  {
   "cell_type": "code",
   "execution_count": null,
   "id": "e5c0bb4a-c4cb-4326-9dd3-d85f93ecc591",
   "metadata": {},
   "outputs": [],
   "source": [
    "your_genre = input('Enter a genre of book that interests you: ')\n",
    "\n",
    "for book in books_read:\n",
    "    \n",
    "    if your_genre.strip().lower() == book['genre'].strip().lower():\n",
    "    \n",
    "        print('This book may interest you: ', book['title'])"
   ]
  },
  {
   "cell_type": "markdown",
   "id": "6e73ca8e",
   "metadata": {},
   "source": [
    "### **Bonus Exercises**\n",
    "\n",
    "\n",
    "- For your Power of Tables exercise, research python's format string specifiers to align the table\n",
    "\n",
    "- For your Number Grade to Letter Grade exercise, edit your grade ranges to include pluses and minuses (ex: 99-100 = A+)\n",
    "\n",
    "- For practicing with list comprehensions, work through 17 List Comprehension Exercises\n",
    "\n",
    "- For even more practice with all your Python tools together, work through 20 Python Data Structure Manipulation Exercises"
   ]
  },
  {
   "cell_type": "code",
   "execution_count": null,
   "id": "f6cd263b",
   "metadata": {},
   "outputs": [],
   "source": []
  }
 ],
 "metadata": {
  "kernelspec": {
   "display_name": "Python 3 (ipykernel)",
   "language": "python",
   "name": "python3"
  },
  "language_info": {
   "codemirror_mode": {
    "name": "ipython",
    "version": 3
   },
   "file_extension": ".py",
   "mimetype": "text/x-python",
   "name": "python",
   "nbconvert_exporter": "python",
   "pygments_lexer": "ipython3",
   "version": "3.10.9"
  }
 },
 "nbformat": 4,
 "nbformat_minor": 5
}
