{
 "cells": [
  {
   "cell_type": "markdown",
   "id": "4f35fb6e-ff8c-4c74-8a24-5f85da7460ca",
   "metadata": {},
   "source": [
    "# **Exercises**\n",
    "\n",
    "## Create a file named function_exercises.py for this exercise. After creating each function specified below, write the necessary code in order to test your function. \n",
    "\n",
    " ✔️\n"
   ]
  },
  {
   "cell_type": "markdown",
   "id": "38297923-fcee-467e-a180-6fd63f05d78e",
   "metadata": {},
   "source": [
    "1. Define a function named is_two. It should accept one input and return True if the passed input is either the number or the string 2, False otherwise."
   ]
  },
  {
   "cell_type": "code",
   "execution_count": 1,
   "id": "d85e35d8-9ae3-4982-b6db-26784e6ea77b",
   "metadata": {
    "scrolled": true
   },
   "outputs": [
    {
     "name": "stdout",
     "output_type": "stream",
     "text": [
      "True\n",
      "True\n",
      "False\n",
      "False\n"
     ]
    }
   ],
   "source": [
    "# defined is_two function with input_value parameter.\n",
    "def is_two(input_value):\n",
    "    # used a return statement to used the str(input_value) to convert to s string literal to check if input_value is equal to the string '2'.\n",
    "    return str(input_value) == '2'\n",
    "\n",
    "# print statement used to call the functions to test with inputs.\n",
    "print(is_two(2))\n",
    "print(is_two('2'))\n",
    "print(is_two(5))\n",
    "print(is_two('hello'))"
   ]
  },
  {
   "cell_type": "markdown",
   "id": "9e5c5aa4-6775-4c0c-b159-488f98c51e51",
   "metadata": {},
   "source": [
    "2. Define a function named is_vowel. It should return True if the passed string is a vowel, False otherwise."
   ]
  },
  {
   "cell_type": "code",
   "execution_count": 2,
   "id": "1d5f5374-d226-4b04-aa3b-837f7f95470d",
   "metadata": {},
   "outputs": [
    {
     "name": "stdout",
     "output_type": "stream",
     "text": [
      "True\n",
      "False\n",
      "True\n",
      "False\n"
     ]
    }
   ],
   "source": [
    "# definition for function name is_vowel. used input_vowel as parameter.\n",
    "def is_vowel(input_vowel):\n",
    "    # if-in statement used to check input_vowel in vowels list which holds vowels in lowercase .\n",
    "    if input_vowel in (['A', 'a', 'E', 'e', 'I', 'i', 'O', 'o', 'U', 'u']):\n",
    "        # returns true if input_vowel is equal to strings in list.\n",
    "        return True\n",
    "    # otherwise.\n",
    "    else:\n",
    "        # return false if letter is a consonant.\n",
    "        return False\n",
    "# Print statments calling function to check is_vowel function with inputs.\n",
    "print(is_vowel('a'))\n",
    "print(is_vowel('s'))\n",
    "print(is_vowel('A'))\n",
    "print(is_vowel('S'))"
   ]
  },
  {
   "cell_type": "markdown",
   "id": "c45c840f-7521-4778-bbee-c2a0457f71b5",
   "metadata": {},
   "source": [
    "3. Define a function named is_consonant. It should return True if the passed string is a consonant, False otherwise. Use your is_vowel function to accomplish this."
   ]
  },
  {
   "cell_type": "code",
   "execution_count": 3,
   "id": "85087121-5800-4291-a445-3e9a09dcc3c8",
   "metadata": {},
   "outputs": [
    {
     "name": "stdout",
     "output_type": "stream",
     "text": [
      "False\n",
      "True\n",
      "False\n",
      "True\n"
     ]
    }
   ],
   "source": [
    "# definition for function name is_consonant. used input_consonant as parameter.\n",
    "def is_consonant(input_consonant):\n",
    "    # if-not in statement used to check input_consonant in vowels list which holds vowels in lowercase .\n",
    "    if input_consonant not in (['A', 'a', 'E', 'e', 'I', 'i', 'O', 'o', 'U', 'u']):\n",
    "        # returns true if input_consonant is not equal to strings in list.\n",
    "        return True\n",
    "    # otherwise.\n",
    "    else:\n",
    "        # return false if letter is a vowel.\n",
    "        return False\n",
    "# Print statments calling function to check is_vowel function with inputs.\n",
    "print(is_consonant('a'))\n",
    "print(is_consonant('s'))\n",
    "print(is_consonant('A'))\n",
    "print(is_consonant('S'))"
   ]
  },
  {
   "cell_type": "markdown",
   "id": "92fc8233-f507-4d8b-a25a-cf3cb147a259",
   "metadata": {},
   "source": [
    "4. Define a function that accepts a string that is a word. The function should capitalize the first letter of the word if the word starts with a consonant."
   ]
  },
  {
   "cell_type": "code",
   "execution_count": 4,
   "id": "9246c69d-d84d-45e4-9dcb-65f36f992336",
   "metadata": {},
   "outputs": [
    {
     "name": "stdout",
     "output_type": "stream",
     "text": [
      "Word\n",
      "address\n",
      "Dolly\n",
      "echo\n",
      "Koolaid\n"
     ]
    }
   ],
   "source": [
    "# defined the function (the_string) with parameter word.\n",
    "def the_string(word):\n",
    "    # assigned consonant to a string that holds all consonants in lower case and upper case.\n",
    "    consonants = \"bcdfghjklmnpqrstvwxyzBCDFGHJKLMNPQRSTVWXYZ\"\n",
    "    # if-an statement used to check the parameter word and the first string at index 0 in word parameter with string assigned to consonants.\n",
    "    if word and word[0] in consonants:\n",
    "        # return the word with first letter capitalized.\n",
    "        return word.capitalize()\n",
    "    # otherwise.\n",
    "    else:\n",
    "        # return word input with no changes if it begins with vowels.\n",
    "        return word\n",
    "# Print statements used to call function to test string inputs.\n",
    "print(the_string('word'))\n",
    "print(the_string('address'))\n",
    "print(the_string('dolly'))\n",
    "print(the_string('echo'))\n",
    "print(the_string('koolaid'))"
   ]
  },
  {
   "cell_type": "markdown",
   "id": "270cf54c-0e01-4692-b35b-07eff1a822db",
   "metadata": {},
   "source": [
    "5. Define a function named calculate_tip. It should accept a tip percentage (a number between 0 and 1) and the bill total, and return the amount to tip."
   ]
  },
  {
   "cell_type": "code",
   "execution_count": 21,
   "id": "9b19cdd8-f951-4cc7-bd74-ac8160fda635",
   "metadata": {},
   "outputs": [
    {
     "name": "stdout",
     "output_type": "stream",
     "text": [
      "Tip Amount: 7.5\n"
     ]
    }
   ],
   "source": [
    "'''\n",
    "First attempt:\n",
    "\n",
    "\n",
    "# defined function name calculate_tip and used input as parameter\n",
    "def calculate_tip(input):\n",
    "    # assigned bill_total variable to input\n",
    "    bill_total = input\n",
    "    # assigned tip_rate variable to 0.15 float value to account for a 15% tip rate.\n",
    "    tip_rate = 0.15\n",
    "    # set tip_total equal to the multiplication between bill total and tip rate\n",
    "    tip_total = bill_total * tip_rate\n",
    "    # set bill_total equal to the sum of bill_total and the tip_amount\n",
    "    bill_total = bill_total + tip_total\n",
    "    # returns tip_total and bill total after calculations\n",
    "    return tip_total, bill_total\n",
    "\n",
    "\n",
    "# assigned a random amount to call the defined function and test the implementation to calculate the tip total\n",
    "bill_total = 50.0 \n",
    "# referenced input and fixed tip rate in function and assigned to defined fucntion and referenced parameter\n",
    "tip_total, bill_total = calculate_tip(bill_total)\n",
    "# prints tip_total\n",
    "print(\"Tip total:\", tip_total)\n",
    "# prints bill total\n",
    "print(\"Bill total:\", bill_total)\n",
    "'''\n",
    "\n",
    "# defined function calculate_tip and assigned parameters tip_percentage and bill total\n",
    "def calculate_tip(tip_percentage, bill_total):\n",
    "    #if-and statements used to set tip_percentage thresholds between 0 and 1\n",
    "    if tip_percentage >= 0 and tip_percentage <= 1:\n",
    "        tip_amount = bill_total * tip_percentage\n",
    "        return tip_amount\n",
    "    else:\n",
    "        return \"Invalid tip percentage. Please provide a value between 0 and 1.\"\n",
    "\n",
    "# Example usage\n",
    "tip_percentage = 0.15\n",
    "bill_total = 50.0\n",
    "tip_amount = calculate_tip(tip_percentage, bill_total)\n",
    "print(\"Tip Amount:\", tip_amount)"
   ]
  },
  {
   "cell_type": "markdown",
   "id": "63dbc022-2216-48de-b127-f20da766f352",
   "metadata": {},
   "source": [
    "6. Define a function named apply_discount. It should accept a original price, and a discount percentage, and return the price after the discount is applied."
   ]
  },
  {
   "cell_type": "code",
   "execution_count": null,
   "id": "b12cb282-41c3-4a70-b412-b5ee82d170ba",
   "metadata": {},
   "outputs": [],
   "source": []
  },
  {
   "cell_type": "markdown",
   "id": "1f991396-9fa4-401e-9499-b103d42dc6d6",
   "metadata": {},
   "source": [
    "7. Define a function named handle_commas. It should accept a string that is a number that contains commas in it as input, and return a number as output."
   ]
  },
  {
   "cell_type": "code",
   "execution_count": null,
   "id": "bc89248c-620e-49fe-8a4e-cda45a658c19",
   "metadata": {},
   "outputs": [],
   "source": []
  },
  {
   "cell_type": "markdown",
   "id": "1bda5abc-2211-4ccd-81ff-2ab81841b34b",
   "metadata": {},
   "source": [
    "8. Define a function named get_letter_grade. It should accept a number and return the letter grade associated with that number (A-F)."
   ]
  },
  {
   "cell_type": "code",
   "execution_count": null,
   "id": "bb361101-f551-48be-8235-6a74763531fc",
   "metadata": {},
   "outputs": [],
   "source": []
  },
  {
   "cell_type": "markdown",
   "id": "a8c1f49a-d701-4248-860d-e8265e1cac6b",
   "metadata": {},
   "source": [
    "9. Define a function named remove_vowels that accepts a string and returns a string with all the vowels removed."
   ]
  },
  {
   "cell_type": "code",
   "execution_count": null,
   "id": "4028f98d-f284-4dee-ad91-f8c1e7393844",
   "metadata": {},
   "outputs": [],
   "source": []
  },
  {
   "cell_type": "markdown",
   "id": "be4e7a9e-200c-418f-bbc4-feb5b1869f6b",
   "metadata": {},
   "source": [
    "10. Define a function named normalize_name. It should accept a string and return a valid python identifier, that is:\n",
    "- anything that is not a valid python identifier should be removed\n",
    "- leading and trailing whitespace should be removed\n",
    "- everything should be lowercase\n",
    "- spaces should be replaced with underscores\n",
    "- for example:\n",
    "- Name will become name\n",
    "- First Name will become first_name\n",
    "- % Completed will become completed\n"
   ]
  },
  {
   "cell_type": "code",
   "execution_count": null,
   "id": "8b182ccf-ff7e-466d-bd4b-c9e7c6718290",
   "metadata": {},
   "outputs": [],
   "source": []
  },
  {
   "cell_type": "markdown",
   "id": "0f53ec38-a8bd-4844-b103-c217c422ea78",
   "metadata": {},
   "source": [
    "11. Write a function named cumulative_sum that accepts a list of numbers and returns a list that is the cumulative sum of the numbers in the list.\n",
    "cumulative_sum([1, 1, 1]) returns [1, 2, 3]\n",
    "cumulative_sum([1, 2, 3, 4]) returns [1, 3, 6, 10]\n"
   ]
  },
  {
   "cell_type": "code",
   "execution_count": null,
   "id": "b82ae87c-4fc5-4c29-8679-32bca15432b6",
   "metadata": {},
   "outputs": [],
   "source": []
  },
  {
   "cell_type": "markdown",
   "id": "73d3d34b-d87f-4c58-b7a4-4b5bac4f6c9f",
   "metadata": {
    "jp-MarkdownHeadingCollapsed": true
   },
   "source": [
    "# **Additional Exercise**\n",
    "\n",
    "- **Once you've completed the above exercises, follow the directions from https://gist.github.com/zgulde/ec8ed80ad8216905cda83d5645c60886 in order to thouroughly comment your code to explain your code.**"
   ]
  },
  {
   "cell_type": "markdown",
   "id": "7de82250-528e-4933-ba19-285047e81ba5",
   "metadata": {},
   "source": [
    "# **Bonus**"
   ]
  },
  {
   "cell_type": "markdown",
   "id": "537ffb34-e4b3-4a3f-b95e-aa7b605d14c5",
   "metadata": {},
   "source": [
    "\n",
    "1. Create a function named twelveto24. It should accept a string in the format 10:45am or 4:30pm and return a string that is the representation of the time in a 24-hour format. Bonus write a function that does the opposite.\n"
   ]
  },
  {
   "cell_type": "code",
   "execution_count": null,
   "id": "de8e8545-5d24-4d0e-9e21-9805d074f171",
   "metadata": {},
   "outputs": [],
   "source": []
  },
  {
   "cell_type": "markdown",
   "id": "3b9bdc8e-a25b-4cf6-9587-62d5b070d0bb",
   "metadata": {},
   "source": [
    "2. Create a function named col_index. It should accept a spreadsheet column name, and return the index number of the column.\n",
    "col_index('A') returns 1\n",
    "col_index('B') returns 2\n",
    "col_index('AA') returns 27"
   ]
  },
  {
   "cell_type": "code",
   "execution_count": null,
   "id": "e4577c6f-3f2a-4ad6-a991-6468e13dec2a",
   "metadata": {},
   "outputs": [],
   "source": []
  }
 ],
 "metadata": {
  "kernelspec": {
   "display_name": "Python 3 (ipykernel)",
   "language": "python",
   "name": "python3"
  },
  "language_info": {
   "codemirror_mode": {
    "name": "ipython",
    "version": 3
   },
   "file_extension": ".py",
   "mimetype": "text/x-python",
   "name": "python",
   "nbconvert_exporter": "python",
   "pygments_lexer": "ipython3",
   "version": "3.10.9"
  }
 },
 "nbformat": 4,
 "nbformat_minor": 5
}
