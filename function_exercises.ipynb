{
 "cells": [
  {
   "cell_type": "markdown",
   "id": "4f35fb6e-ff8c-4c74-8a24-5f85da7460ca",
   "metadata": {},
   "source": [
    "# **Exercises**\n",
    "\n",
    "## Create a file named function_exercises.py for this exercise. After creating each function specified below, write the necessary code in order to test your function. \n",
    "\n",
    " ✔️\n"
   ]
  },
  {
   "cell_type": "markdown",
   "id": "38297923-fcee-467e-a180-6fd63f05d78e",
   "metadata": {},
   "source": [
    "1. Define a function named is_two. It should accept one input and return True if the passed input is either the number or the string 2, False otherwise."
   ]
  },
  {
   "cell_type": "code",
   "execution_count": 1,
   "id": "d85e35d8-9ae3-4982-b6db-26784e6ea77b",
   "metadata": {
    "scrolled": true
   },
   "outputs": [
    {
     "name": "stdout",
     "output_type": "stream",
     "text": [
      "True\n",
      "True\n",
      "False\n",
      "False\n"
     ]
    }
   ],
   "source": [
    "# defined is_two function with input_value parameter.\n",
    "def is_two(input_value):\n",
    "    # used a return statement to used the str(input_value) to convert to s string literal to check if input_value is equal to the string '2'.\n",
    "    return str(input_value) == '2'\n",
    "\n",
    "# print statement used to call the functions to test with inputs.\n",
    "print(is_two(2))\n",
    "print(is_two('2'))\n",
    "print(is_two(5))\n",
    "print(is_two('hello'))"
   ]
  },
  {
   "cell_type": "markdown",
   "id": "fdefce3d-8642-4126-a038-69dff3f17827",
   "metadata": {},
   "source": [
    "### INSTRUCTOR/STUDENT EXAMPLE:"
   ]
  },
  {
   "cell_type": "code",
   "execution_count": 2,
   "id": "8338ce27-96e0-4750-b73f-339233e08791",
   "metadata": {},
   "outputs": [],
   "source": [
    "def is_two(input):\n",
    "    \n",
    "    if input == 2 or input == '2':\n",
    "\n",
    "        return True\n",
    "        \n",
    "    else:\n",
    "\n",
    "        return False"
   ]
  },
  {
   "cell_type": "code",
   "execution_count": 3,
   "id": "6903294a-f4a4-43e2-9d71-a45240e9b280",
   "metadata": {},
   "outputs": [
    {
     "name": "stdout",
     "output_type": "stream",
     "text": [
      "True\n",
      "True\n",
      "False\n",
      "False\n"
     ]
    }
   ],
   "source": [
    "print(is_two(2))\n",
    "print(is_two('2'))\n",
    "print(is_two(5))\n",
    "print(is_two('hello'))"
   ]
  },
  {
   "cell_type": "code",
   "execution_count": 4,
   "id": "d173aa32-2707-45a3-b2bf-f64b7afad907",
   "metadata": {},
   "outputs": [],
   "source": [
    "def is_two(input):\n",
    "    \n",
    "    return input == 2 or input == '2'"
   ]
  },
  {
   "cell_type": "code",
   "execution_count": 5,
   "id": "dc1bb416-f596-4203-8695-87345df016ef",
   "metadata": {},
   "outputs": [
    {
     "name": "stdout",
     "output_type": "stream",
     "text": [
      "True\n",
      "True\n",
      "False\n",
      "False\n"
     ]
    }
   ],
   "source": [
    "print(is_two(2))\n",
    "print(is_two('2'))\n",
    "print(is_two(5))\n",
    "print(is_two('hello'))"
   ]
  },
  {
   "cell_type": "markdown",
   "id": "9e5c5aa4-6775-4c0c-b159-488f98c51e51",
   "metadata": {},
   "source": [
    "2. Define a function named is_vowel. It should return True if the passed string is a vowel, False otherwise."
   ]
  },
  {
   "cell_type": "code",
   "execution_count": 6,
   "id": "1d5f5374-d226-4b04-aa3b-837f7f95470d",
   "metadata": {
    "scrolled": true
   },
   "outputs": [
    {
     "name": "stdout",
     "output_type": "stream",
     "text": [
      "True\n",
      "False\n"
     ]
    }
   ],
   "source": [
    "# definition for function name is_vowel. used input_vowel as parameter.\n",
    "def is_vowel(input_vowel):\n",
    "    # if-in statement used to check input_vowel in vowels list which holds vowels in lowercase .\n",
    "    if input_vowel in (['A', 'a', 'E', 'e', 'I', 'i', 'O', 'o', 'U', 'u']):\n",
    "        # returns true if input_vowel is equal to strings in list.\n",
    "        return True\n",
    "    # otherwise.\n",
    "    else:\n",
    "        # return false if letter is a consonant.\n",
    "        return False\n",
    "        \n",
    "# Print statments calling function to check is_vowel function with inputs.\n",
    "print(is_vowel('a'))\n",
    "print(is_vowel('s'))\n"
   ]
  },
  {
   "cell_type": "markdown",
   "id": "34356a7e-4d0b-45a1-8d5c-d1d0d6804216",
   "metadata": {},
   "source": [
    "### INSTRUCTOR/STUDENT EXAMPLE:"
   ]
  },
  {
   "cell_type": "code",
   "execution_count": 7,
   "id": "dade3274-e6d8-4078-bf56-8b0f002abd6b",
   "metadata": {},
   "outputs": [],
   "source": [
    "def is_vowel(input):\n",
    "    if input in ('aeiou'):\n",
    "        \n",
    "        return True\n",
    "        \n",
    "    else:\n",
    "\n",
    "        return False"
   ]
  },
  {
   "cell_type": "code",
   "execution_count": 8,
   "id": "24780eed-3380-4ddb-8094-9634dfcd3a90",
   "metadata": {},
   "outputs": [
    {
     "name": "stdout",
     "output_type": "stream",
     "text": [
      "True\n",
      "False\n"
     ]
    }
   ],
   "source": [
    "print(is_vowel('i'))\n",
    "print(is_vowel('b'))"
   ]
  },
  {
   "cell_type": "markdown",
   "id": "c45c840f-7521-4778-bbee-c2a0457f71b5",
   "metadata": {},
   "source": [
    "3. Define a function named is_consonant. It should return True if the passed string is a consonant, False otherwise. Use your is_vowel function to accomplish this."
   ]
  },
  {
   "cell_type": "code",
   "execution_count": 9,
   "id": "85087121-5800-4291-a445-3e9a09dcc3c8",
   "metadata": {},
   "outputs": [
    {
     "name": "stdout",
     "output_type": "stream",
     "text": [
      "False\n",
      "True\n",
      "False\n",
      "True\n"
     ]
    }
   ],
   "source": [
    "# definition for function name is_consonant. used input_consonant as parameter.\n",
    "def is_consonant(input_consonant):\n",
    "    # if-not in statement used to check input_consonant in vowels list which holds vowels in lowercase .\n",
    "    if input_consonant not in (['A', 'a', 'E', 'e', 'I', 'i', 'O', 'o', 'U', 'u']):\n",
    "        # returns true if input_consonant is not equal to strings in list.\n",
    "        return True\n",
    "    # otherwise.\n",
    "    else:\n",
    "        # return false if letter is a vowel.\n",
    "        return False\n",
    "# Print statments calling function to check is_vowel function with inputs.\n",
    "print(is_consonant('a'))\n",
    "print(is_consonant('s'))\n",
    "print(is_consonant('A'))\n",
    "print(is_consonant('S'))"
   ]
  },
  {
   "cell_type": "markdown",
   "id": "fcbb556a-29fc-4770-91d1-03439fb05beb",
   "metadata": {},
   "source": [
    "### INSTRUCTOR/STUDENT EXAMPLE:"
   ]
  },
  {
   "cell_type": "code",
   "execution_count": 10,
   "id": "52c133c0-b466-4e8a-b993-6a9819f98244",
   "metadata": {},
   "outputs": [],
   "source": [
    "def is_consonant(input):\n",
    "    if is_vowel(input):\n",
    "        return False\n",
    "    else:\n",
    "        return True"
   ]
  },
  {
   "cell_type": "code",
   "execution_count": 11,
   "id": "841f71bb-d9b5-4ead-aac7-f726fb6f0b48",
   "metadata": {},
   "outputs": [
    {
     "data": {
      "text/plain": [
       "False"
      ]
     },
     "execution_count": 11,
     "metadata": {},
     "output_type": "execute_result"
    }
   ],
   "source": [
    "is_consonant('a')"
   ]
  },
  {
   "cell_type": "code",
   "execution_count": 12,
   "id": "d2099fce-66a1-47c0-8624-ea3cd1a5a35f",
   "metadata": {},
   "outputs": [
    {
     "data": {
      "text/plain": [
       "True"
      ]
     },
     "execution_count": 12,
     "metadata": {},
     "output_type": "execute_result"
    }
   ],
   "source": [
    "is_consonant('b')"
   ]
  },
  {
   "cell_type": "markdown",
   "id": "92fc8233-f507-4d8b-a25a-cf3cb147a259",
   "metadata": {},
   "source": [
    "4. Define a function that accepts a string that is a word. The function should capitalize the first letter of the word if the word starts with a consonant."
   ]
  },
  {
   "cell_type": "code",
   "execution_count": 13,
   "id": "9246c69d-d84d-45e4-9dcb-65f36f992336",
   "metadata": {},
   "outputs": [
    {
     "name": "stdout",
     "output_type": "stream",
     "text": [
      "Word\n",
      "address\n",
      "Dolly\n",
      "echo\n",
      "Koolaid\n"
     ]
    }
   ],
   "source": [
    "# defined the function (the_string) with parameter word.\n",
    "def the_string(word):\n",
    "    # assigned consonant to a string that holds all consonants in lower case and upper case.\n",
    "    consonants = \"bcdfghjklmnpqrstvwxyzBCDFGHJKLMNPQRSTVWXYZ\"\n",
    "    # if-an statement used to check the parameter word and the first string at index 0 in word parameter with string assigned to consonants.\n",
    "    if word and word[0] in consonants:\n",
    "        # return the word with first letter capitalized.\n",
    "        return word.capitalize()\n",
    "    # otherwise.\n",
    "    else:\n",
    "        # return word input with no changes if it begins with vowels.\n",
    "        return word\n",
    "# Print statements used to call function to test string inputs.\n",
    "print(the_string('word'))\n",
    "print(the_string('address'))\n",
    "print(the_string('dolly'))\n",
    "print(the_string('echo'))\n",
    "print(the_string('koolaid'))"
   ]
  },
  {
   "cell_type": "markdown",
   "id": "fcaf7343-2d67-4974-9787-1a1876f19821",
   "metadata": {},
   "source": [
    "### INSTRUCTOR/STUDENT EXAMPLE:"
   ]
  },
  {
   "cell_type": "code",
   "execution_count": 14,
   "id": "7dfafa5c-e2f9-43c3-a179-3380d0004014",
   "metadata": {},
   "outputs": [],
   "source": [
    "def cap_first(input):\n",
    "    count = 0\n",
    "    new_string = ''\n",
    "    for letter in input:\n",
    "        if count == 0 and is_consonant(letter):\n",
    "            new_string += letter.upper()\n",
    "            count += 1\n",
    "        else:\n",
    "            new_string += letter\n",
    "            count += 1\n",
    "    return new_string"
   ]
  },
  {
   "cell_type": "code",
   "execution_count": 15,
   "id": "02cc37b9-cdaf-45b9-bcba-a7d2ae35bfc6",
   "metadata": {},
   "outputs": [
    {
     "data": {
      "text/plain": [
       "'edwgige'"
      ]
     },
     "execution_count": 15,
     "metadata": {},
     "output_type": "execute_result"
    }
   ],
   "source": [
    "cap_first('edwgige')"
   ]
  },
  {
   "cell_type": "code",
   "execution_count": 16,
   "id": "5dc54ab5-d5e0-4411-b0de-5a4a73884aae",
   "metadata": {},
   "outputs": [
    {
     "data": {
      "text/plain": [
       "'apple'"
      ]
     },
     "execution_count": 16,
     "metadata": {},
     "output_type": "execute_result"
    }
   ],
   "source": [
    "cap_first('apple')"
   ]
  },
  {
   "cell_type": "code",
   "execution_count": 17,
   "id": "5772d3d4-26aa-4dee-a9e6-5599f76f558c",
   "metadata": {},
   "outputs": [
    {
     "data": {
      "text/plain": [
       "'Marc'"
      ]
     },
     "execution_count": 17,
     "metadata": {},
     "output_type": "execute_result"
    }
   ],
   "source": [
    "cap_first('marc')"
   ]
  },
  {
   "cell_type": "code",
   "execution_count": 18,
   "id": "8a8486a3-8eb0-40c5-b213-279dcf4deb6c",
   "metadata": {},
   "outputs": [],
   "source": [
    "def cap_first(input):\n",
    "    if input[0] not in ('aeiou'):\n",
    "        return input.capitalize()\n",
    "    else:\n",
    "        return input"
   ]
  },
  {
   "cell_type": "code",
   "execution_count": 19,
   "id": "45b9a1eb-30a8-4d03-8e15-c0696d3d5e8a",
   "metadata": {},
   "outputs": [
    {
     "data": {
      "text/plain": [
       "'Marc'"
      ]
     },
     "execution_count": 19,
     "metadata": {},
     "output_type": "execute_result"
    }
   ],
   "source": [
    "cap_first('marc')"
   ]
  },
  {
   "cell_type": "code",
   "execution_count": 20,
   "id": "d23be5dd-1626-45a9-9eb3-1f2c7b7f29bd",
   "metadata": {},
   "outputs": [],
   "source": [
    "def cap_first(input):\n",
    "    if is_consonant(input[0]):\n",
    "        return input.capitalize()\n",
    "    else:\n",
    "        return input"
   ]
  },
  {
   "cell_type": "code",
   "execution_count": 21,
   "id": "c853154c-eb68-4700-960d-a3b04e092ebc",
   "metadata": {},
   "outputs": [
    {
     "data": {
      "text/plain": [
       "'Marc'"
      ]
     },
     "execution_count": 21,
     "metadata": {},
     "output_type": "execute_result"
    }
   ],
   "source": [
    "cap_first('marc')"
   ]
  },
  {
   "cell_type": "markdown",
   "id": "270cf54c-0e01-4692-b35b-07eff1a822db",
   "metadata": {},
   "source": [
    "5. Define a function named calculate_tip. It should accept a tip percentage (a number between 0 and 1) and the bill total, and return the amount to tip."
   ]
  },
  {
   "cell_type": "code",
   "execution_count": 22,
   "id": "9b19cdd8-f951-4cc7-bd74-ac8160fda635",
   "metadata": {},
   "outputs": [
    {
     "name": "stdout",
     "output_type": "stream",
     "text": [
      "Tip Amount: 7.5\n"
     ]
    }
   ],
   "source": [
    "'''\n",
    "First attempt:\n",
    "\n",
    "\n",
    "# defined function name calculate_tip and used input as parameter\n",
    "def calculate_tip(input):\n",
    "    # assigned bill_total variable to input\n",
    "    bill_total = input\n",
    "    # assigned tip_rate variable to 0.15 float value to account for a 15% tip rate.\n",
    "    tip_rate = 0.15\n",
    "    # set tip_total equal to the multiplication between bill total and tip rate\n",
    "    tip_total = bill_total * tip_rate\n",
    "    # set bill_total equal to the sum of bill_total and the tip_amount\n",
    "    bill_total = bill_total + tip_total\n",
    "    # returns tip_total and bill total after calculations\n",
    "    return tip_total, bill_total\n",
    "\n",
    "\n",
    "# assigned a random amount to call the defined function and test the implementation to calculate the tip total\n",
    "bill_total = 50.0 \n",
    "# referenced input and fixed tip rate in function and assigned to defined fucntion and referenced parameter\n",
    "tip_total, bill_total = calculate_tip(bill_total)\n",
    "# prints tip_total\n",
    "print(\"Tip total:\", tip_total)\n",
    "# prints bill total\n",
    "print(\"Bill total:\", bill_total)\n",
    "'''\n",
    "\n",
    "# defined function calculate_tip and assigned parameters tip_percentage and bill total\n",
    "def calculate_tip(tip_percentage, bill_total):\n",
    "    #if-and statements used to set tip_percentage thresholds between 0 and 1\n",
    "    if tip_percentage >= 0 and tip_percentage <= 1:\n",
    "        # tip_amount set equal to bill_totL multiplied by tip_percentage\n",
    "        tip_amount = bill_total * tip_percentage\n",
    "        # return the tip_amount\n",
    "        return tip_amount\n",
    "    # Otherwise\n",
    "    else:\n",
    "        # return invalid message\n",
    "        return \"Invalid tip percentage. Please provide a value between 0 and 1.\"\n",
    "\n",
    "# example use\n",
    "tip_percentage = 0.15\n",
    "bill_total = 50.0\n",
    "tip_amount = calculate_tip(tip_percentage, bill_total)\n",
    "print(\"Tip Amount:\", tip_amount)"
   ]
  },
  {
   "cell_type": "markdown",
   "id": "e6c8a028-036a-4fc9-abf7-e39bd499971f",
   "metadata": {},
   "source": [
    "### INSTRUCTOR/STUDENT EXAMPLE:"
   ]
  },
  {
   "cell_type": "code",
   "execution_count": 23,
   "id": "05382083-0755-4908-9f43-73c5c27a3424",
   "metadata": {},
   "outputs": [],
   "source": [
    "def calculate_tip(bill, percentage):\n",
    "    return bill * percentage"
   ]
  },
  {
   "cell_type": "code",
   "execution_count": 24,
   "id": "312e31e8-f142-4734-81f4-3a9b33374db1",
   "metadata": {
    "jupyter": {
     "source_hidden": true
    },
    "scrolled": true
   },
   "outputs": [
    {
     "data": {
      "text/plain": [
       "5.0"
      ]
     },
     "execution_count": 24,
     "metadata": {},
     "output_type": "execute_result"
    }
   ],
   "source": [
    "calculate_tip(20, .25)"
   ]
  },
  {
   "cell_type": "markdown",
   "id": "63dbc022-2216-48de-b127-f20da766f352",
   "metadata": {},
   "source": [
    "6. Define a function named apply_discount. It should accept an original price, and a discount percentage, and return the price after the discount is applied."
   ]
  },
  {
   "cell_type": "code",
   "execution_count": 1,
   "id": "b12cb282-41c3-4a70-b412-b5ee82d170ba",
   "metadata": {},
   "outputs": [
    {
     "name": "stdout",
     "output_type": "stream",
     "text": [
      "Price after discount:  5.0\n"
     ]
    }
   ],
   "source": [
    "# defined function to apply a discount to a price using paramaters original_price and discount_percentage.\n",
    "def apply_discount(original_price, discount_percentage):\n",
    "    # variable name discount_price set equal to orignial price multiplied by a percent value.\n",
    "    discounted_price = original_price * discount_percentage\n",
    "    # return new price after discount is applied.\n",
    "    return discounted_price\n",
    "    \n",
    "# example use.\n",
    "original_price = 20.0\n",
    "discount_percentage = 0.25\n",
    "disc_price = apply_discount(original_price, discount_percentage)\n",
    "print(\"Price after discount: \", disc_price)\n",
    "\n",
    "    \n",
    "    "
   ]
  },
  {
   "cell_type": "markdown",
   "id": "6e97ae0b-cbb1-4589-b507-a63717d01d49",
   "metadata": {},
   "source": [
    "### INSTRUCTOR/STUDENT EXAMPLE:"
   ]
  },
  {
   "cell_type": "code",
   "execution_count": 26,
   "id": "8fcdcb32-ab05-481c-b45e-8617558a87a8",
   "metadata": {},
   "outputs": [],
   "source": [
    "def apply_discount(price, discount):\n",
    "    return price - (price * discount)"
   ]
  },
  {
   "cell_type": "code",
   "execution_count": 27,
   "id": "2bba373d-7f77-4ad7-b9bb-b9822c52bf1d",
   "metadata": {},
   "outputs": [
    {
     "data": {
      "text/plain": [
       "75.0"
      ]
     },
     "execution_count": 27,
     "metadata": {},
     "output_type": "execute_result"
    }
   ],
   "source": [
    "apply_discount(100, .25)"
   ]
  },
  {
   "cell_type": "code",
   "execution_count": 28,
   "id": "b739c45a-8cc5-4a85-82fd-f3fd97169cc3",
   "metadata": {},
   "outputs": [
    {
     "data": {
      "text/plain": [
       "37.5"
      ]
     },
     "execution_count": 28,
     "metadata": {},
     "output_type": "execute_result"
    }
   ],
   "source": [
    "apply_discount(75, .50)"
   ]
  },
  {
   "cell_type": "markdown",
   "id": "1f991396-9fa4-401e-9499-b103d42dc6d6",
   "metadata": {},
   "source": [
    "7. Define a function named handle_commas. It should accept a string that is a number that contains commas in it as input, and return a number as output."
   ]
  },
  {
   "cell_type": "code",
   "execution_count": 31,
   "id": "50194721-a27a-4d8a-819a-0ab716691837",
   "metadata": {},
   "outputs": [],
   "source": [
    "# defined a function handle_commas with parameter input.\n",
    "def handle_commas(input):\n",
    "    # Convert input to a string, remove commas.\n",
    "    result = str(input).replace(',', '')\n",
    "    # Convert the modified string back to an integer and return it.\n",
    "    return int(result)"
   ]
  },
  {
   "cell_type": "code",
   "execution_count": 32,
   "id": "d13a5e42-126b-4af0-8624-b26abf3c1b7b",
   "metadata": {},
   "outputs": [
    {
     "data": {
      "text/plain": [
       "4567909"
      ]
     },
     "execution_count": 32,
     "metadata": {},
     "output_type": "execute_result"
    }
   ],
   "source": [
    "handle_commas('4,567,909')"
   ]
  },
  {
   "cell_type": "markdown",
   "id": "35e8abe0-faec-4527-ac08-0eec7445f537",
   "metadata": {},
   "source": [
    "### INSTRUCTOR/STUDENT EXAMPLE:"
   ]
  },
  {
   "cell_type": "code",
   "execution_count": 33,
   "id": "bdf1f236-8bda-40ec-be24-d20ffd32e8d6",
   "metadata": {},
   "outputs": [],
   "source": [
    "def handle_commas(input):\n",
    "    new_number = ''\n",
    "    for number in input:\n",
    "        if number != ',':\n",
    "            new_number += number\n",
    "    return new_number\n",
    "    "
   ]
  },
  {
   "cell_type": "code",
   "execution_count": 34,
   "id": "7bc310e9-7b98-40c4-95e7-5ffe177b7670",
   "metadata": {},
   "outputs": [
    {
     "data": {
      "text/plain": [
       "'3500750000'"
      ]
     },
     "execution_count": 34,
     "metadata": {},
     "output_type": "execute_result"
    }
   ],
   "source": [
    "handle_commas('3,500,750,000')"
   ]
  },
  {
   "cell_type": "markdown",
   "id": "1bda5abc-2211-4ccd-81ff-2ab81841b34b",
   "metadata": {},
   "source": [
    "8. Define a function named get_letter_grade. It should accept a number and return the letter grade associated with that number (A-F)."
   ]
  },
  {
   "cell_type": "code",
   "execution_count": 35,
   "id": "bb361101-f551-48be-8235-6a74763531fc",
   "metadata": {},
   "outputs": [],
   "source": [
    "# defined function get_letter_grade and set parameter to accept input from user\n",
    "def get_letter_grade(input):\n",
    "    # if-elif-else statements to build a number range  and return string letter for respective grade.\n",
    "    if input >= 90:\n",
    "\n",
    "        return 'A'\n",
    "        \n",
    "    elif input >= 80:\n",
    "\n",
    "        return 'B'\n",
    "\n",
    "    elif input >= 70:\n",
    "\n",
    "        return 'C'\n",
    "\n",
    "    elif input >= 60:\n",
    "\n",
    "        return 'D'\n",
    "\n",
    "    else:\n",
    "\n",
    "        return 'F'\n",
    "    "
   ]
  },
  {
   "cell_type": "code",
   "execution_count": 36,
   "id": "ea47019a-2df6-4ea0-a4d8-0f95287fe5b9",
   "metadata": {},
   "outputs": [
    {
     "data": {
      "text/plain": [
       "'A'"
      ]
     },
     "execution_count": 36,
     "metadata": {},
     "output_type": "execute_result"
    }
   ],
   "source": [
    "get_letter_grade(90)"
   ]
  },
  {
   "cell_type": "code",
   "execution_count": 37,
   "id": "5b189220-f63f-4c7c-9d9e-1d8c187597da",
   "metadata": {},
   "outputs": [
    {
     "data": {
      "text/plain": [
       "'C'"
      ]
     },
     "execution_count": 37,
     "metadata": {},
     "output_type": "execute_result"
    }
   ],
   "source": [
    "get_letter_grade(78)"
   ]
  },
  {
   "cell_type": "code",
   "execution_count": 38,
   "id": "8065d72e-2ffa-47c5-b302-1f96a3406e60",
   "metadata": {
    "scrolled": true
   },
   "outputs": [
    {
     "data": {
      "text/plain": [
       "'F'"
      ]
     },
     "execution_count": 38,
     "metadata": {},
     "output_type": "execute_result"
    }
   ],
   "source": [
    "get_letter_grade(59)"
   ]
  },
  {
   "cell_type": "code",
   "execution_count": 39,
   "id": "34233bcc-90cf-47eb-ab03-7b847c464670",
   "metadata": {},
   "outputs": [
    {
     "data": {
      "text/plain": [
       "'D'"
      ]
     },
     "execution_count": 39,
     "metadata": {},
     "output_type": "execute_result"
    }
   ],
   "source": [
    "get_letter_grade(67.50)"
   ]
  },
  {
   "cell_type": "markdown",
   "id": "a8c1f49a-d701-4248-860d-e8265e1cac6b",
   "metadata": {},
   "source": [
    "9. Define a function named remove_vowels that accepts a string and returns a string with all the vowels removed."
   ]
  },
  {
   "cell_type": "code",
   "execution_count": 2,
   "id": "4028f98d-f284-4dee-ad91-f8c1e7393844",
   "metadata": {},
   "outputs": [],
   "source": [
    "# Function to remove vowels from the input string.\n",
    "def remove_vowels(input):\n",
    "    # Initialize an empty string to store the characters without vowels.\n",
    "    new_string = ''  \n",
    "    # Iterate through each character in the input string.\n",
    "    for letter in input:  \n",
    "        # Check if the character is not a vowel (a, e, i, o, or u).\n",
    "        if letter not in ('aeiou'):  \n",
    "            # If the character is not a vowel, add it to the new string.\n",
    "            new_string += letter \n",
    "    # Return the new string without vowels.\n",
    "    return new_string "
   ]
  },
  {
   "cell_type": "code",
   "execution_count": 3,
   "id": "5c0725cb-78dc-4d94-9ec6-004ec3cc611c",
   "metadata": {},
   "outputs": [
    {
     "data": {
      "text/plain": [
       "'sprfrglstcxpldcs'"
      ]
     },
     "execution_count": 3,
     "metadata": {},
     "output_type": "execute_result"
    }
   ],
   "source": [
    "remove_vowels('superfragilisticexpialidocious')"
   ]
  },
  {
   "cell_type": "markdown",
   "id": "be4e7a9e-200c-418f-bbc4-feb5b1869f6b",
   "metadata": {},
   "source": [
    "10. Define a function named normalize_name. It should accept a string and return a valid python identifier, that is:\n",
    "- anything that is not a valid python identifier should be removed\n",
    "- leading and trailing whitespace should be removed\n",
    "- everything should be lowercase\n",
    "- spaces should be replaced with underscores\n",
    "- for example:\n",
    "- Name will become name\n",
    "- First Name will become first_name\n",
    "- % Completed will become completed\n"
   ]
  },
  {
   "cell_type": "code",
   "execution_count": 42,
   "id": "8b182ccf-ff7e-466d-bd4b-c9e7c6718290",
   "metadata": {},
   "outputs": [],
   "source": [
    "def normalize_name(input):\n",
    "    \"\"\"\n",
    "    Function to normalize a name by converting it to lowercase, removing whitespace, and replacing spaces with underscores.\n",
    "\n",
    "    Parameters:\n",
    "        input (str): The name to be normalized.\n",
    "\n",
    "    Returns:\n",
    "        str: The normalized name.\n",
    "    \"\"\"\n",
    "    # Initialize an empty string to store the normalized name.\n",
    "    new_string = ''\n",
    "    # Variable to keep track of the previous letter while iterating through the name.\n",
    "    prev_letter = ''\n",
    "    # Remove leading and trailing whitespace from the input (Note: The strip method does not modify the original string).\n",
    "    input.strip() \n",
    "    # Iterate through each character in the input name.\n",
    "    for letter in input:\n",
    "        # Check if the character is a letter or a number (alphanumeric).\n",
    "        if letter.isalnum() == True: \n",
    "            # If the character is alphanumeric, convert it to lowercase and add it to the new string.\n",
    "            new_string += letter.lower() \n",
    "        # Check if the character is a space and the previous character was alphanumeric.\n",
    "        elif letter == ' ' and prev_letter.isalnum() == True: \n",
    "            # If the conditions are met, add an underscore to the new string to replace the space.\n",
    "            new_string += '_'\n",
    "            \n",
    "        else:\n",
    "            # For any other non-alphanumeric character, ignore and do not add it to the new string.\n",
    "            new_string += '' \n",
    "        # Store the current letter as the previous letter for the next iteration.\n",
    "        prev_letter = letter \n",
    "    # Check if the last character in the new string is an underscore.\n",
    "    if new_string[len(new_string) - 1] == '_': \n",
    "        # If the last character is an underscore, remove it from the new string.\n",
    "        new_string = new_string[:len(new_string) - 1]\n",
    "    # Return the normalized name.\n",
    "    return new_string \n"
   ]
  },
  {
   "cell_type": "code",
   "execution_count": 43,
   "id": "721b5e28-13a1-4563-9780-6d2292eb8013",
   "metadata": {
    "scrolled": true
   },
   "outputs": [
    {
     "data": {
      "text/plain": [
       "'name'"
      ]
     },
     "execution_count": 43,
     "metadata": {},
     "output_type": "execute_result"
    }
   ],
   "source": [
    "normalize_name('Name')"
   ]
  },
  {
   "cell_type": "code",
   "execution_count": 44,
   "id": "eed83dc3-dcdf-4294-811b-48e13027e552",
   "metadata": {},
   "outputs": [
    {
     "data": {
      "text/plain": [
       "'firstname'"
      ]
     },
     "execution_count": 44,
     "metadata": {},
     "output_type": "execute_result"
    }
   ],
   "source": [
    "normalize_name('First Name')"
   ]
  },
  {
   "cell_type": "code",
   "execution_count": 45,
   "id": "e5114074-4867-4bb2-889b-6fc2dda97b79",
   "metadata": {},
   "outputs": [
    {
     "data": {
      "text/plain": [
       "'completed'"
      ]
     },
     "execution_count": 45,
     "metadata": {},
     "output_type": "execute_result"
    }
   ],
   "source": [
    "normalize_name('% Completed')"
   ]
  },
  {
   "cell_type": "code",
   "execution_count": 46,
   "id": "09dc07c7-ab56-41f2-b5be-97524ef76788",
   "metadata": {},
   "outputs": [
    {
     "data": {
      "text/plain": [
       "'completed'"
      ]
     },
     "execution_count": 46,
     "metadata": {},
     "output_type": "execute_result"
    }
   ],
   "source": [
    "normalize_name(\"% Completed %\")"
   ]
  },
  {
   "cell_type": "markdown",
   "id": "0f53ec38-a8bd-4844-b103-c217c422ea78",
   "metadata": {},
   "source": [
    "11. Write a function named cumulative_sum that accepts a list of numbers and returns a list that is the cumulative sum of the numbers in the list.\n",
    "cumulative_sum([1, 1, 1]) returns [1, 2, 3]\n",
    "cumulative_sum([1, 2, 3, 4]) returns [1, 3, 6, 10]\n"
   ]
  },
  {
   "cell_type": "code",
   "execution_count": 5,
   "id": "b82ae87c-4fc5-4c29-8679-32bca15432b6",
   "metadata": {},
   "outputs": [],
   "source": [
    "def cumulative_sum(input):\n",
    "    \"\"\"\n",
    "    Function to calculate the cumulative sum of elements in the input list.\n",
    "\n",
    "    Parameters:\n",
    "        input (list): The input list of numbers.\n",
    "\n",
    "    Returns:\n",
    "        list: A new list containing the cumulative sums of the elements in the input list.\n",
    "    \"\"\"\n",
    "\n",
    "    new_list = []  # Initialize an empty list to store the cumulative sums.\n",
    "\n",
    "    count = 1  # Initialize a variable to keep track of the number of elements processed.\n",
    "\n",
    "    for num in input:  # Iterate through each number in the input list.\n",
    "\n",
    "        list_sum = sum(input[:count])  # Calculate the sum of the elements up to the current count.\n",
    "\n",
    "        new_list.append(list_sum)  # Add the calculated sum to the new list.\n",
    "\n",
    "        count += 1  # Increment the count to process the next element.\n",
    "\n",
    "    return new_list  # Return the list containing the cumulative sums.\n"
   ]
  },
  {
   "cell_type": "code",
   "execution_count": 6,
   "id": "86590f6b-e529-46e2-a83d-12d1b097d717",
   "metadata": {},
   "outputs": [
    {
     "data": {
      "text/plain": [
       "[1, 3, 6]"
      ]
     },
     "execution_count": 6,
     "metadata": {},
     "output_type": "execute_result"
    }
   ],
   "source": [
    "cumulative_sum([1, 2, 3])"
   ]
  },
  {
   "cell_type": "markdown",
   "id": "73d3d34b-d87f-4c58-b7a4-4b5bac4f6c9f",
   "metadata": {
    "jp-MarkdownHeadingCollapsed": true
   },
   "source": [
    "# **Additional Exercise**\n",
    "\n",
    "- **Once you've completed the above exercises, follow the directions from https://gist.github.com/zgulde/ec8ed80ad8216905cda83d5645c60886 in order to thouroughly comment your code to explain your code.**"
   ]
  },
  {
   "cell_type": "markdown",
   "id": "7de82250-528e-4933-ba19-285047e81ba5",
   "metadata": {},
   "source": [
    "# **Bonus**"
   ]
  },
  {
   "cell_type": "markdown",
   "id": "537ffb34-e4b3-4a3f-b95e-aa7b605d14c5",
   "metadata": {},
   "source": [
    "\n",
    "1. Create a function named twelveto24. It should accept a string in the format 10:45am or 4:30pm and return a string that is the representation of the time in a 24-hour format. Bonus write a function that does the opposite.\n"
   ]
  },
  {
   "cell_type": "code",
   "execution_count": null,
   "id": "de8e8545-5d24-4d0e-9e21-9805d074f171",
   "metadata": {},
   "outputs": [],
   "source": []
  },
  {
   "cell_type": "markdown",
   "id": "3b9bdc8e-a25b-4cf6-9587-62d5b070d0bb",
   "metadata": {},
   "source": [
    "2. Create a function named col_index. It should accept a spreadsheet column name, and return the index number of the column.\n",
    "col_index('A') returns 1\n",
    "col_index('B') returns 2\n",
    "col_index('AA') returns 27"
   ]
  },
  {
   "cell_type": "code",
   "execution_count": null,
   "id": "e4577c6f-3f2a-4ad6-a991-6468e13dec2a",
   "metadata": {},
   "outputs": [],
   "source": []
  }
 ],
 "metadata": {
  "kernelspec": {
   "display_name": "Python 3 (ipykernel)",
   "language": "python",
   "name": "python3"
  },
  "language_info": {
   "codemirror_mode": {
    "name": "ipython",
    "version": 3
   },
   "file_extension": ".py",
   "mimetype": "text/x-python",
   "name": "python",
   "nbconvert_exporter": "python",
   "pygments_lexer": "ipython3",
   "version": "3.10.9"
  }
 },
 "nbformat": 4,
 "nbformat_minor": 5
}
