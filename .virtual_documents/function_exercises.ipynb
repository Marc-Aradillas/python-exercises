





# defined is_two function with input_value parameter.
def is_two(input_value):
    # used a return statement to used the str(input_value) to convert to s string literal to check if input_value is equal to the string '2'.
    return str(input_value) == '2'

# print statement used to call the functions to test with inputs.
print(is_two(2))
print(is_two('2'))
print(is_two(5))
print(is_two('hello'))





def is_two(input):
    
    if input == 2 or input == '2':

        return True
        
    else:

        return False


print(is_two(2))
print(is_two('2'))
print(is_two(5))
print(is_two('hello'))


def is_two(input):
    
    return input == 2 or input == '2'


print(is_two(2))
print(is_two('2'))
print(is_two(5))
print(is_two('hello'))





# definition for function name is_vowel. used input_vowel as parameter.
def is_vowel(input_vowel):
    # if-in statement used to check input_vowel in vowels list which holds vowels in lowercase .
    if input_vowel in (['A', 'a', 'E', 'e', 'I', 'i', 'O', 'o', 'U', 'u']):
        # returns true if input_vowel is equal to strings in list.
        return True
    # otherwise.
    else:
        # return false if letter is a consonant.
        return False
        
# Print statments calling function to check is_vowel function with inputs.
print(is_vowel('a'))
print(is_vowel('s'))






def is_vowel(input):
    if input in ('aeiou'):
        
        return True
        
    else:

        return False


print(is_vowel('i'))
print(is_vowel('b'))





# definition for function name is_consonant. used input_consonant as parameter.
def is_consonant(input_consonant):
    # if-not in statement used to check input_consonant in vowels list which holds vowels in lowercase .
    if input_consonant not in (['A', 'a', 'E', 'e', 'I', 'i', 'O', 'o', 'U', 'u']):
        # returns true if input_consonant is not equal to strings in list.
        return True
    # otherwise.
    else:
        # return false if letter is a vowel.
        return False
# Print statments calling function to check is_vowel function with inputs.
print(is_consonant('a'))
print(is_consonant('s'))
print(is_consonant('A'))
print(is_consonant('S'))





def is_consonant(input):
    if is_vowel(input):
        return False
    else:
        return True


is_consonant('a')


is_consonant('b')





# defined the function (the_string) with parameter word.
def the_string(word):
    # assigned consonant to a string that holds all consonants in lower case and upper case.
    consonants = "bcdfghjklmnpqrstvwxyzBCDFGHJKLMNPQRSTVWXYZ"
    # if-an statement used to check the parameter word and the first string at index 0 in word parameter with string assigned to consonants.
    if word and word[0] in consonants:
        # return the word with first letter capitalized.
        return word.capitalize()
    # otherwise.
    else:
        # return word input with no changes if it begins with vowels.
        return word
# Print statements used to call function to test string inputs.
print(the_string('word'))
print(the_string('address'))
print(the_string('dolly'))
print(the_string('echo'))
print(the_string('koolaid'))





def cap_first(input):
    count = 0
    new_string = ''
    for letter in input:
        if count == 0 and is_consonant(letter):
            new_string += letter.upper()
            count += 1
        else:
            new_string += letter
            count += 1
    return new_string


cap_first('edwgige')


cap_first('apple')


cap_first('marc')


def cap_first(input):
    if input[0] not in ('aeiou'):
        return input.capitalize()
    else:
        return input


cap_first('marc')


def cap_first(input):
    if is_consonant(input[0]):
        return input.capitalize()
    else:
        return input


cap_first('marc')





'''
First attempt:


# defined function name calculate_tip and used input as parameter
def calculate_tip(input):
    # assigned bill_total variable to input
    bill_total = input
    # assigned tip_rate variable to 0.15 float value to account for a 15% tip rate.
    tip_rate = 0.15
    # set tip_total equal to the multiplication between bill total and tip rate
    tip_total = bill_total * tip_rate
    # set bill_total equal to the sum of bill_total and the tip_amount
    bill_total = bill_total + tip_total
    # returns tip_total and bill total after calculations
    return tip_total, bill_total


# assigned a random amount to call the defined function and test the implementation to calculate the tip total
bill_total = 50.0 
# referenced input and fixed tip rate in function and assigned to defined fucntion and referenced parameter
tip_total, bill_total = calculate_tip(bill_total)
# prints tip_total
print("Tip total:", tip_total)
# prints bill total
print("Bill total:", bill_total)
'''

# defined function calculate_tip and assigned parameters tip_percentage and bill total
def calculate_tip(tip_percentage, bill_total):
    #if-and statements used to set tip_percentage thresholds between 0 and 1
    if tip_percentage >= 0 and tip_percentage <= 1:
        # tip_amount set equal to bill_totL multiplied by tip_percentage
        tip_amount = bill_total * tip_percentage
        # return the tip_amount
        return tip_amount
    # Otherwise
    else:
        # return invalid message
        return "Invalid tip percentage. Please provide a value between 0 and 1."

# example use
tip_percentage = 0.15
bill_total = 50.0
tip_amount = calculate_tip(tip_percentage, bill_total)
print("Tip Amount:", tip_amount)





def calculate_tip(bill, percentage):
    return bill * percentage


calculate_tip(20, .25)





# defined function to apply a discount to a price using paramaters original_price and discount_percentage.
def apply_discount(original_price, discount_percentage):
    # variable name discount_price set equal to orignial price multiplied by a percent value.
    discounted_price = original_price * discount_percentage
    # return new price after discount is applied.
    return discounted_price
    
# example use.
original_price = 20.0
discount_percentage = 0.25
disc_price = apply_discount(original_price, discount_percentage)
print("Price after discount: ", disc_price)

    
    





def apply_discount(price, discount):
    return price - (price * discount)


apply_discount(100, .25)


apply_discount(75, .50)





# defined a function handle_commas with parameter input
def handle_commas(input):
    # remove commas from the input string
    result = input.replace(',', '')
    # return result
    return result


handle_commas('4,567,909')


# defined a function handle_commas with parameter input.
def handle_commas(input):
    # Convert input to a string, remove commas.
    result = str(input).replace(',', '')
    # Convert the modified string back to an integer and return it.
    return int(result)


handle_commas('4,567,909')





def handle_commas(input):
    new_number = ''
    for number in input:
        if number != ',':
            new_number += number
    return new_number
    


handle_commas('3,500,750,000')





# defined function get_letter_grade and set parameter to accept input from user
def get_letter_grade(input):
    # if-elif-else statements to build a number range  and return string letter for respective grade.
    if input >= 90:

        return 'A'
        
    elif input >= 80:

        return 'B'

    elif input >= 70:

        return 'C'

    elif input >= 60:

        return 'D'

    else:

        return 'F'
    


get_letter_grade(90)


get_letter_grade(78)


get_letter_grade(59)


get_letter_grade(67.50)





def remove_vowels(input):

    new_string = ''

    for letter in input:

        if letter not in ('aeiou'):

            new_string += letter
            
    return new_string


remove_vowels('superfragilisticexpialidocious')





def normalize_name(input):
    new_string = ''
    prev_letter = ''
    # remove leading and ending with whitespace
    input.strip()
    for letter in input:
        # if letter is true for letter and number
        if letter.isalnum() == True:
            new_string += letter.lower()
        elif letter == ' ' and prev_letter.isalnum() == True:
            new_string += '_'      
        else:
            new_string += ''
            prev_letter = letter
    if new_string[len(new_string)-1] == '_':
        new_string = new_string[:1]
    return new_string


normalize_name('Name')


normalize_name('First Name')


normalize_name('% Completed')


normalize_name("% Completed %")





def cumulative_sum(input):

    new_list = []

    count = 1

    for num in input:

        list_sum = sum(input[:count])

        new_list.append(list_sum)
        
        count += 1
        
    return new_list

        


cumulative_sum([1, 1,1])


















