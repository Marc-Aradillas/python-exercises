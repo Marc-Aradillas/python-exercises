%autosave 0





#standard import
import numpy as np





array = np.array([1, 2, 3, 4, 5])
array





array[0] 


array[2:] # lower boundary


array[-3:] # track backwards and count from same position in the array

# negatively slicing the matrix





array * 10


my_list = [1, 2, 3, 4, 5]


empty_list = []

for num in my_list:
    empty_list.append(num * 10)

empty_list

# this is why we use numpy in a nutshell - subquery lord





mask = array > 3
mask


array[mask]
# indexing operation for this array





# array < 3 is applied as a mask in this instance to the original array.
array[array < 3]

# boolean values need to match the number of array values to work; otherwise is errors out.


st_norm = np.random.randn(5)
st_norm


np.random.randn(3, 3, 3)





my_norm = np.random.normal(30, 5, 5)
my_norm





range_array = np.arange(0, 12, 3)
range_array





range_array.sum()


range_array.mean()


range_array.max()
