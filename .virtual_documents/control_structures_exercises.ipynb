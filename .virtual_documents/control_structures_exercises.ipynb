





day_of_the_week = input('Please enter a day of the week: ')
# if day_of_week.strip().lower() sanitize (remove whitespace) and lower case to take in upper case inputs
if day_of_the_week == ('monday'):
    
    print('This is the first day of the week, Monday!')
    
else: 
        
    print('This day is not monday, what a relief.')
   





day_of_the_week = input('Please enter a day of the week: ')
# if day_of_week.strip().lower() sanitize (remove whitespace) and lower case to take in upper case inputs
if day_of_the_week in ['monday', 'tuesday', 'wednesday', 'thursday', 'friday']:
    
    print("It's a weekday buddy.")
    
elif day_of_the_week in ['saturday', 'sunday']: 
    
    print("This is a weekend date!, party on!")
    
else:
    
    print('That\'s not a day, please type a day of the week in the field. Thank you!')







# set variables
n = 41

h_r = 26

# calculations
if n <= 40:
    
    pay = n * h_r
    
    print('Calculated pay:', pay)
    
else:
    
    pay = 40 * h_r + (n - 40) * h_r * 1.5
    
    print("Calculated pay with overtime:", pay)








i = 5

while i <= 15:
    
    print(i)
    
    i += 1





i = 0

while i in range(101):
    
    print(i)
    
    i += 2





i = 2

while i < 1000000: # you can add underscores for large number values to be more readable
    
    print(i)
    
    i = (i ** 2) # square each i(th) iteration; i was incrementing which did not calculate the same when using the variab;





# 100
# 95
# 90
# 85
# 80
# 75
# 70
# 65
# 60
# 55
# 50
# 45
# 40
# 35
# 30
# 25
# 20
# 15
# 10
# 5


num = 100

while num >= 5:
    
    print(num)
    
    num -= 5





# 7 x 1 = 7
# 7 x 2 = 14
# 7 x 3 = 21
# 7 x 4 = 28
# 7 x 5 = 35
# 7 x 6 = 42
# 7 x 7 = 49
# 7 x 8 = 56
# 7 x 9 = 63
# 7 x 10 = 70


user_num = int(input('Enter a number:'))

print("Multiplication table for", user_num, ":")

for i in range(1, 11):
    
    product = user_num * i
    
    print(user_num, "x", i, "=", product)
    
    # print(f'{your_num} x {i} = {your_num * i}')





# 1
# 22
# 333
# 4444
# 55555
# 666666
# 7777777
# 88888888
# 999999999





for i in range(1, 10):
    
    num = i
    
    # extra lol, i += 1
    
    print(str(i) * i)
    
    # print(f'{i}'' * i) string and int consolidated logic








user_num = int(input('Enter positive int:'))

if user_num < 0:
    
    print('This is not a positive number!, try again.')
    
    
else:
    
    print('Counting down from', user_num, 'to 1.')
    
    while user_num >= 0:
        
        if user_num % 11 == 0:
            
            user_num -= 1
            
            continue
    
        print(user_num)
    
        if user_num == 1:
            
            break
            
        user_num -= 1
        
'''
your_num = int(input('Enter a positive integer'))

while True:

    if your_num <= 0:
    
        break
        
    print(your_num)
    
    your_num -= 1

'''





user_num = int(input('Enter positive int: '))

if user_num <= 0:
    
    print('This is not a positive number!, try again.')
    
else:
    
    print('Counting from 0 up to', user_num, '.')
    
    for i in range(0, user_num + 1):
        
        while user_num == i:
        
            break
        
        print(i)
        
'''
your_num - int(input('Enter a psotive integer: '))

i = 0

while True:
    
    print(i)
    
    if i == your_num:
    
        break
        
    i += 1

'''





# Number to skip is: 27

# Here is an odd number: 1
# Here is an odd number: 3
# Here is an odd number: 5
# Here is an odd number: 7
# Here is an odd number: 9
# Here is an odd number: 11
# Here is an odd number: 13
# Here is an odd number: 15
# Here is an odd number: 17
# Here is an odd number: 19
# Here is an odd number: 21
# Here is an odd number: 23
# Here is an odd number: 25
# Yikes! Skipping number: 27
# Here is an odd number: 29
# Here is an odd number: 31
# Here is an odd number: 33
# Here is an odd number: 35
# Here is an odd number: 37
# Here is an odd number: 39
# Here is an odd number: 41
# Here is an odd number: 43
# Here is an odd number: 45
# Here is an odd number: 47
# Here is an odd number: 49


user_num = input("Enter an odd number between 1 and 50: \n\n")

if not user_num.isdigit():
    
    print("This is not an odd number!, please try again.")
    
    
num = int(user_num)

if num < 1 or num > 50 or num % 2 == 0:
    
    print("this is not an odd number or is out range. Please enter an odd number between 1 and 50.")

print("\n\nNumber to skip is", num, '\n')

for i in range(1, 51):
    
    if i == num:
        
        print('Yikes!: Skipping number:', num)
        
        continue
        
    if i % 2 != 0:
        
        print('Here is an odd number:', i)








i = 1

while i in range(101):
    
    print(i)
    
    i += 1





for num in range(1, 10):

    if num % 3 == 0:
    
        print("Fizz")
    
    else:
    
        print(num)





for num in range(1, 26):
    
    if num % 5 == 0:
    
        print("Buzz")
        
    else:
        
        print(num)





for num in range(1, 100):
    
    if num % 3 == 0 and num % 5 == 0:
    
        print("FizzBuzz")
        
    else:
        
        print(num)





i = 1

while i <= 100:
    
    if i % 15 == 0:
        
        print('Fizzbuzz')
        
    elif i % 5 == 0:
            
        print('Buzz')
    
    elif i % 3 == 0:
        
        print('Fizz')
        
    else:
        
        print(i)
        
    i += 1





while True:
    
    user_int = int(input('What number would you like to go up to?  \n'))

    # header
    print('\nHere is your table!,\n')

    print('number\tsquared\tcubed')

    print('------\t------\t------')

    for i in range(1, user_int + 1):
        
        print(f'{i}\t{i ** 2}\t{i ** 3}')

    answer = input('Would you like to continue (Y/N)? ')

    if answer.strip().lower() == 'n':
        
        print('\nHave a great day!')
        
        break






while True:
    
    your_grade = int(input('Enter your numerical grade from 0 to 100: '))
    
    print()
    
    if your_grade >= 90:
        
        print('A')
        
    elif your_grade >= 80:
        
        print('B')
        
    elif your_grade >= 70:
        
        print('C')
        
    elif your_grade >= 60:
        
        print('D')
        
    else:
        
        print('F')  
        
    print()    
        
    answer = input('Would you like to continue? (Y/N): ')
    
    print()
    
    if answer.strip().lower() == 'n':
        
        print('Have a great day!')
        
        break





books_read = [{'title': 'The Phantom Tollbooth', 'author': 'Norton Juster', 'genre': 'Fantasy'},
              {'title': 'Nicomachean Ethics', 'author': 'Aristotle', 'genre': 'Philosophy'},
              {'title': 'Atlas Shrugged', 'author': 'Ayn Rand', 'genre': 'Fiction'}]

for book in books_read:
    
    print('Title: ', book['title'], '  Author: ', book['author'], '  Genre: ', book['genre'])


your_genre = input('Enter a genre of book that interests you: ')

for book in books_read:
    
    if your_genre.strip().lower() == book['genre'].strip().lower():
    
        print('This book may interest you: ', book['title'])






