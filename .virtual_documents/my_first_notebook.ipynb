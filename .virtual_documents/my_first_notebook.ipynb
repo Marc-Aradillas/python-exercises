





x = 5

y = 10

sum = x + y

print(sum)





nombre = "Marc Anthony"

edad = 28

print("Mi nombre es", nombre, "y yo tengo", edad, "años.")





import math

radius = 3

area = math.pi * radius ** 2

print(area)



