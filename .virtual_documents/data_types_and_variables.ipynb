





type(99.9), type ("False"), type (False), type ('0'), type (0)


type (True), type ('True'), type ([{}]), type ({'a': []})








'''


'1' + 2 # TypeError: can only concatenate str (not "int") to str

6 % 4 # 2

type(6 % 4) # int

type(type(6 % 4)) # type

'3 + 4 is ' + 3 + 4 # TypeError: can only concatenate str (not "int") to str

0 < 0 # False

'False' == False # False

True == 'True' # False

5 >= -5 # True

True or "42" # True

6 % 5 # 1

5 < 4 and 1 == 1 # False

'codeup' == 'codeup' and 'codeup' == 'Codeup' # False

4 >= 0 and 1 !== '1' # SyntaxError: invalid syntax (!==)

6 % 3 == 0 # True

5 % 2 != 0 # True

[1] + 2 # TypeError: can only concatenate list (not "int") to list

[1] + [2] # [1, 2]

[1] * 2 # [1, 1]

[1] * [2] # TypeError: can't multiply sequence by non-int of type 'list'

[] + [] == [] # True

{} + {} # TypeError: unsupported operand type(s) for +: 'dict' and 'dict'


'''











# assigned rental fee variable to 3
daily_rent_fee = 3

The_Little_Mermaid = 3
Brother_bear = 5
Hercules = 1

Total_payment_sum = (The_Little_Mermaid + Brother_bear + Hercules) * daily_rent_fee

print("Total Amount: $", Total_payment_sum, ".00", sep="")










Google_work_hours = 6
Amazon_work_hours = 4
Facebook_work_hours = 10

Google_pay = 400.00 * Google_work_hours
Amazon_pay = 380.00 * Amazon_work_hours
Facebook_pay = 350.00 * Facebook_work_hours 

Total_take_home_pay = (Google_pay + Amazon_pay + Facebook_pay)

print("Total payment received for the week: $", Total_take_home_pay, sep="") 





if_class_full = False
if_class_not_full = True
if_schedule_conflict = False
if_no_schedule_conflict = True

student_should_enroll = if_class_not_full and if_no_schedule_conflict

student_should_enroll





items_bought = 3

offer_expired = False
offer_not_expired = True
premium_member = False
basic_member = True

Product_offer_applies = (items_bought > 2 or premium_member) and offer_not_expired
Product_offer_applies














username = 'codeup'
password = 'notastrongpassword'

is_password_valid = len(password) >= 5
is_username_valid = len(username) <= 20
is_password_different = password != username

print("Password is valid.", is_password_valid)
print("Username is valid.", is_username_valid)
print("Password is different from username.", is_password_different)
