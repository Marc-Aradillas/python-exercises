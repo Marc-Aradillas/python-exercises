











from function_exercises import calculate_tip


calculate_tip(40, .25)





from function_exercises import get_letter_grade as glg

glg(88)











import itertools


letters = ['a', 'b', 'c']
numbers =  [1, 2, 3]


product = itertools.product(letters, numbers, repeat=1)


# could also do

len(list(itertools.product('abc','123')))


for product in product:
    print(product)





letters = 'abcd'


combinations = itertools.combinations(letters, r=2)




# could alsodo

len(list(itertools.combinations('abcd', r=2)))


for combination in combinations:
    print(list(combinations))


# permutation function example


permutations = itertools.permutations(letters, r=2)


# could also do
len(list(itertools.combinations('abcd', r=2)))


for permutation in permutations:
     print(list(permutation))





























# fruit_list = []

# for profile in profiles:
#     fruit_list.append(profile[favoriteFruit'])

# print(fruit_list)

# max((fruit_list, key = fruit_list.count)
    





import json

json.load(open('profiles.json'))


# Read JSON file
with open('profiles.json', 'r') as file:
    data = json.load(file)








# Total number of users
total_users = len(data)






# Number of active users
active_users = len([user for user in data if user['isActive']])





# Number of inactive users
inactive_users = total_users - active_users





# Grand total of balances for all users
grand_total = sum(float(user['balance'].replace(',', '').replace('$', '')) for user in data)





# Average balance per user
average_balance = round(float(grand_total / total_users))





# User with the lowest balance
lowest_balance_user = min(data, key=lambda user: user['balance'])





# User with the highest balance
highest_balance_user = max(data, key=lambda user: user['balance'])





# Most common favorite fruit
favorite_fruits = [user['favoriteFruit'] for user in data]
most_common_fruit = max(set(favorite_fruits), key=favorite_fruits.count)





# Least common favorite fruit
least_common_fruit = min(set(favorite_fruits), key=favorite_fruits.count)





# Total number of unread messages for all users
# Go back to get the correct number of unread messages
total_unread_messages = 0

for profile in data:
    
    message = profile['greeting'].split(' ')
    for word in message:
        if word.isdigit():
            total_unread_messages += int(word)

print(total_unread_messages)


# print statments to output results
print("Total number of users:", total_users)
print("Number of active users:", active_users)
print("Number of inactive users:", inactive_users)
print("Grand total of balances for all users:", grand_total)
print("Average balance per user:", average_balance)
print("User with the lowest balance:", lowest_balance_user['name'])
print("User with the highest balance:", highest_balance_user['name'])
print("Most common favorite fruit:", most_common_fruit)
print("Least common favorite fruit:", least_common_fruit)
print("Total number of unread messages for all users:", total_unread_messages)
