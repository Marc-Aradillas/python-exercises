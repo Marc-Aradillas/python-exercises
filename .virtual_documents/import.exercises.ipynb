





'''
python interactive session input/outputs:

----------------------------------------
In [8]: import function_exercises

In [9]: function_exercises.is_vowel('a')
Out[9]: True

In [10]:
----------------------------------------
'''





from function_exercises import calculate_tip

calculate_tip(40, .25)





from function_exercises import get_letter_grade as glg

glg(88)











import itertools


letters = ['a', 'b', 'c']
numbers =  [1, 2, 3]


product = itertools.product(letters, numbers, repeat=1)


for product in product:
    print(product)





letters = ['a', 'b', 'c', 'd']


combinations = itertools.combinations(letters, r=2)


for combination in combinations:
    print(list(combinations))


# permutation function example


permutations = itertools.permutations(letters, r=2)


for permutation in permutations:
     print(list(permutation))





import json

json.load(open('profiles.json'))


# Read the JSON file
with open('users.json', 'r') as file:
    data = json.load(file)































































