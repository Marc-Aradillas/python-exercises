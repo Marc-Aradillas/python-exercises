





'''
python interactive session input/outputs:

----------------------------------------
In [8]: import function_exercises

In [9]: function_exercises.is_vowel('a')
Out[9]: True

In [10]:
----------------------------------------
'''





from function_exercises import calculate_tip

calculate_tip(40, .25)





from function_exercises import get_letter_grade as glg

glg(88)











import itertools


letters = ['a', 'b', 'c']
numbers =  [1, 2, 3]


product = itertools.product(letters, numbers, repeat=1)


for product in product:
    print(product)





letters = ['a', 'b', 'c', 'd']


combinations = itertools.combinations(letters, r=2)


for combination in combinations:
    print(list(combinations))


# permutation function example


permutations = itertools.permutations(letters, r=2)


for permutation in permutations:
     print(list(permutation))





import json

json.load(open('profiles.json'))





with open('profiles.json') as file:
    data = json.load(file)





# Total number of users
total_users = len(data)





# Number of active users
active_users = sum(1 for user in data if user['isActive'])





# Number of inactive users
inactive_users = total_users - active_users





# Convert balance to float and calculate the grand total
grand_total = sum(float(user['balance'].replace(',', '').replace('$', '')) for user in data)





# Average balance per user
average_balance = grand_total / total_users





"""
# User with the lowest balance
user_lowest_balance = min(data, key=lambda user: float(user['balance'].replace(',', '').replace('$', '')))
balance = user_lowest_balance['balance']
print(balance)
"""



def get_balance(user):
    return float(user['balance'].replace(',', '').replace('$', ''))

user_lowest_balance = min(data, key=get_balance)
print(user_lowest_balance)






# User with the highest balance
user_highest_balance = max(data, key=lambda user: float(user['balance'].replace(',', '').replace('$', '')))
balance = user_highest_balance['balance']
print(balance)





# Most common favorite fruit
favorite_fruits = [user['favoriteFruit'] for user in data]
most_common_fruit = max(set(favorite_fruits), key=favorite_fruits.count)





# Least common favorite fruit
least_common_fruit = min(set(favorite_fruits), key=favorite_fruits.count)





# Total number of unread messages for all users
# total_unread_messages = sum(int(user['greeting'].split()[4]) for user in data)


# Create a list of dictionaries with the calculated information
output_data = [
    {'Total number of users': total_users},
    {'Number of active users': active_users},
    {'Number of inactive users': inactive_users},
    {'Grand total of balances for all users': grand_total},
    {'Average balance per user': average_balance},
    {'User with the lowest balance': user_lowest_balance},
    {'User with the highest balance': user_highest_balance},
    {'Most common favorite fruit': most_common_fruit},
    {'Least common favorite fruit': least_common_fruit},
    # {'Total number of unread messages for all users': total_unread_messages}
]

# Print the output data
for item in output_data:
    print(item)



# #import json

# # Load data from the JSON file
# with open('data.json') as file:
#     data = json.load(file)

# # Total number of users
# total_users = len(data)

# # Number of active users
# active_users = sum(1 for user in data if user['isActive'])

# # Number of inactive users
# inactive_users = total_users - active_users

# # Convert balance to float and calculate the grand total
# grand_total = sum(float(user['balance'].replace(',', '').replace('$', '')) for user in data)

# # Average balance per user
# average_balance = grand_total / total_users

# # User with the lowest balance
# user_lowest_balance = min(data, key=lambda user: float(user['balance'].replace(',', '').replace('$', '')))

# # User with the highest balance
# user_highest_balance = max(data, key=lambda user: float(user['balance'].replace(',', '').replace('$', '')))

# # Most common favorite fruit
# favorite_fruits = [user['favoriteFruit'] for user in data]
# most_common_fruit = max(set(favorite_fruits), key=favorite_fruits.count)

# # Least common favorite fruit
# least_common_fruit = min(set(favorite_fruits), key=favorite_fruits.count)

# # Total number of unread messages for all users
# total_unread_messages = sum(int(user['greeting'].split()[4]) for user in data)

# # Create a list of dictionaries with the calculated information
# output_data = [
#     {'Total number of users': total_users},
#     {'Number of active users': active_users},
#     {'Number of inactive users': inactive_users},
#     {'Grand total of balances for all users': grand_total},
#     {'Average balance per user': average_balance},
#     {'User with the lowest balance': user_lowest_balance},
#     {'User with the highest balance': user_highest_balance},
#     {'Most common favorite fruit': most_common_fruit},
#     {'Least common favorite fruit': least_common_fruit},
#     {'Total number of unread messages for all users': total_unread_messages}
# ]

# # Print the output data
# for item in output_data:
#     print(item)

